{
 "cells": [
  {
   "attachments": {},
   "cell_type": "markdown",
   "metadata": {},
   "source": [
    "### Attempt to make, new improved x-ray structure analyser\n",
    "\n",
    "\n",
    "Could do an initial proximity check to see which residues are nearby each other, then only focus on those for the analysis?\n",
    "\n",
    "\n",
    "Notes: If among standard 20 amino acids, can split into bb and side chain.\n",
    "\n",
    "If not, then no split is possible but can be treated as a ligand.\n",
    "\n",
    "Can also provide option to either provide, 1 or 0, or some scaled value...\n",
    "\n",
    "\n",
    "\n",
    "Hbond defintion:\n",
    "- up till 3.5 A, reducing between 2 and 3.5 good.\n",
    "- 180 +- xxx degrees, towards 180 =better.\n",
    "- Make a model that swaps between 0 and 1 for this? \n",
    "\n",
    "\n",
    "vdW defintion. \n",
    "- Can do as before, but do last and only if something between them already not defined. \n",
    "\n"
   ]
  },
  {
   "cell_type": "code",
   "execution_count": 2,
   "metadata": {},
   "outputs": [
    {
     "name": "stderr",
     "output_type": "stream",
     "text": [
      "/Users/dariiayehorova/miniforge3/envs/tools_proj_py3_11/lib/python3.11/site-packages/tqdm/auto.py:21: TqdmWarning: IProgress not found. Please update jupyter and ipywidgets. See https://ipywidgets.readthedocs.io/en/stable/user_install.html\n",
      "  from .autonotebook import tqdm as notebook_tqdm\n",
      "/Users/dariiayehorova/miniforge3/envs/tools_proj_py3_11/lib/python3.11/site-packages/MDAnalysis/topology/TPRParser.py:161: DeprecationWarning: 'xdrlib' is deprecated and slated for removal in Python 3.13\n",
      "  import xdrlib\n"
     ]
    }
   ],
   "source": [
    "from typing import Tuple, Optional, List\n",
    "import warnings\n",
    "import itertools\n",
    "import pandas as pd\n",
    "import numpy as np\n",
    "\n",
    "\n",
    "import MDAnalysis\n",
    "from MDAnalysis import Universe\n",
    "from MDAnalysis.analysis.hydrogenbonds.hbond_analysis import HydrogenBondAnalysis as HBA\n",
    "from MDAnalysis.analysis import contacts # TODO perhaps remove and use distances implementation?\n",
    "from MDAnalysis.analysis import distances"
   ]
  },
  {
   "cell_type": "code",
   "execution_count": 3,
   "metadata": {},
   "outputs": [],
   "source": [
    "# Amino acid definitions - helps define interaction types.\n",
    "POSITIVE_SB_RESIDUES = (\"LYS\", \"ARG\")\n",
    "NEGATIVE_SB_RESIDUES = (\"GLU\", \"ASP\")\n",
    "HYDROPHOBIC_RESIDUES = (\"ALA\", \"VAL\", \"LEU\", \"ILE\", \"PRO\", \"PHE\", \"CYS\")\n",
    "# CATION PI\n",
    "# AROMATIC \n",
    "# OTHER INTERACTION TYPES. \n",
    "STANDARD_20_RESIDUES = [\"ALA\", \"ARG\", \"ASN\", \"ASP\", \"CYS\", \"GLU\", \"GLN\", \"GLY\", \n",
    "                        \"HIS\", \"ILE\", \"LEU\", \"LYS\", \"MET\", \"PHE\", \"PRO\", \"SER\", \n",
    "                        \"THR\", \"TRP\", \"TYR\", \"VAL\"]\n"
   ]
  },
  {
   "cell_type": "code",
   "execution_count": 4,
   "metadata": {},
   "outputs": [
    {
     "name": "stderr",
     "output_type": "stream",
     "text": [
      "/Users/dariiayehorova/miniforge3/envs/tools_proj_py3_11/lib/python3.11/site-packages/MDAnalysis/topology/PDBParser.py:331: UserWarning: Element information is missing, elements attribute will not be populated. If needed these can be guessed using MDAnalysis.topology.guessers.\n",
      "  warnings.warn(\"Element information is missing, elements attribute \"\n"
     ]
    }
   ],
   "source": [
    "parm_file = r\"WT_PTP1B_Closed.pdb\" # r\"PDZ_Apo.pdb\"\n",
    "traj_file = r\"WT_PTP1B_Closed.pdb\" # r\"PDZ_Apo.pdb\"\n",
    "universe = Universe(parm_file, traj_file)"
   ]
  },
  {
   "cell_type": "code",
   "execution_count": 5,
   "metadata": {},
   "outputs": [
    {
     "name": "stdout",
     "output_type": "stream",
     "text": [
      "['GLU' 'MET' 'GLU' 'LYS' 'GLU']\n"
     ]
    }
   ],
   "source": [
    "res_names = universe.residues.resnames\n",
    "print(res_names[0:5])"
   ]
  },
  {
   "cell_type": "code",
   "execution_count": 6,
   "metadata": {},
   "outputs": [
    {
     "data": {
      "text/plain": [
       "(<AtomGroup with 5 atoms>,\n",
       " <AtomGroup with 7 atoms>,\n",
       " <AtomGroup with 5 atoms>,\n",
       " <AtomGroup with 12 atoms>)"
      ]
     },
     "execution_count": 6,
     "metadata": {},
     "output_type": "execute_result"
    }
   ],
   "source": [
    "res1, res2 = 28, 73\n",
    "res1_bb_sele = \"name C CA O N H and resid \" + str(res1)\n",
    "res1_sc_sele = \"not name C CA O N H and resid \" + str(res1)\n",
    "res1_bb_atoms = universe.select_atoms(res1_bb_sele)\n",
    "res1_sc_atoms = universe.select_atoms(res1_sc_sele)\n",
    "\n",
    "res2_bb_sele = \"name C CA O N H and resid \" + str(res2)\n",
    "res2_sc_sele = \"not name C CA O N H and resid \" + str(res2)\n",
    "res2_bb_atoms = universe.select_atoms(res2_bb_sele)\n",
    "res2_sc_atoms = universe.select_atoms(res2_sc_sele)\n",
    "\n",
    "res1_bb_atoms, res1_sc_atoms, res2_bb_atoms, res2_sc_atoms "
   ]
  },
  {
   "cell_type": "code",
   "execution_count": 7,
   "metadata": {},
   "outputs": [
    {
     "data": {
      "text/plain": [
       "array([[16.90094717, 17.50930785, 17.01616876, 18.07523556, 19.26726043],\n",
       "       [16.98084045, 17.61729793, 17.06851731, 18.07232127, 19.27653506],\n",
       "       [17.74663463, 18.32236559, 17.95738583, 19.04662139, 20.22863419],\n",
       "       [17.60548782, 18.19188767, 17.88842286, 18.91988226, 20.1081985 ],\n",
       "       [17.95747147, 18.57999519, 18.20380095, 19.16105754, 20.36419746]])"
      ]
     },
     "execution_count": 7,
     "metadata": {},
     "output_type": "execute_result"
    }
   ],
   "source": [
    "bb1_bb2_dists = contacts.distance_array(\n",
    "    res1_bb_atoms.positions, res2_bb_atoms.positions\n",
    ")\n",
    "bb1_bb2_dists "
   ]
  },
  {
   "cell_type": "code",
   "execution_count": 8,
   "metadata": {},
   "outputs": [
    {
     "name": "stdout",
     "output_type": "stream",
     "text": [
      "<Atom 431: N of type N of resname ASP, resid 28 and segid SYSTEM and altLoc >\n",
      "<Atom 432: H of type H of resname ASP, resid 28 and segid SYSTEM and altLoc >\n",
      "<Atom 433: CA of type C of resname ASP, resid 28 and segid SYSTEM and altLoc >\n",
      "<Atom 441: C of type C of resname ASP, resid 28 and segid SYSTEM and altLoc >\n",
      "<Atom 442: O of type O of resname ASP, resid 28 and segid SYSTEM and altLoc >\n"
     ]
    }
   ],
   "source": [
    "for atom in res1_bb_atoms:\n",
    "    print(atom)"
   ]
  },
  {
   "cell_type": "code",
   "execution_count": 9,
   "metadata": {},
   "outputs": [
    {
     "name": "stdout",
     "output_type": "stream",
     "text": [
      "<Atom 431: N of type N of resname ASP, resid 28 and segid SYSTEM and altLoc >\n",
      "<Atom 432: H of type H of resname ASP, resid 28 and segid SYSTEM and altLoc >\n",
      "<Atom 433: CA of type C of resname ASP, resid 28 and segid SYSTEM and altLoc >\n",
      "<Atom 441: C of type C of resname ASP, resid 28 and segid SYSTEM and altLoc >\n",
      "<Atom 442: O of type O of resname ASP, resid 28 and segid SYSTEM and altLoc >\n"
     ]
    }
   ],
   "source": [
    "for atom in res1_bb_atoms:\n",
    "    print(atom)"
   ]
  },
  {
   "attachments": {},
   "cell_type": "markdown",
   "metadata": {},
   "source": [
    "### Salt bridges\n",
    "\n",
    "Could just do an electrostatics based calculation? Need force field charges though..."
   ]
  },
  {
   "cell_type": "code",
   "execution_count": 10,
   "metadata": {},
   "outputs": [
    {
     "data": {
      "text/plain": [
       "'ASP64 ARG55 saltbridge sc-sc'"
      ]
     },
     "execution_count": 10,
     "metadata": {},
     "output_type": "execute_result"
    }
   ],
   "source": [
    "from tools_proj.contacts.salt_bridges import check_for_salt_bridge\n",
    "check_for_salt_bridge(res_numbers=(64, 55), universe=universe)"
   ]
  },
  {
   "cell_type": "code",
   "execution_count": 11,
   "metadata": {},
   "outputs": [
    {
     "data": {
      "text/plain": [
       "<ResidueGroup with 298 residues>"
      ]
     },
     "execution_count": 11,
     "metadata": {},
     "output_type": "execute_result"
    }
   ],
   "source": [
    "universe.residues"
   ]
  },
  {
   "cell_type": "code",
   "execution_count": 12,
   "metadata": {},
   "outputs": [
    {
     "name": "stdout",
     "output_type": "stream",
     "text": [
      "GLU1 LYS4 saltbridge sc-sc\n",
      "GLU5 LYS246 saltbridge sc-sc\n",
      "ASP10 ARG267 saltbridge sc-sc\n",
      "ARG55 ASP64 saltbridge sc-sc\n",
      "GLU75 ARG237 saltbridge sc-sc\n",
      "ARG78 ASP228 saltbridge sc-sc\n",
      "ARG104 GLU169 saltbridge sc-sc\n",
      "GLU114 ARG220 saltbridge sc-sc\n",
      "LYS119 ASP180 saltbridge sc-sc\n",
      "GLU146 ARG155 saltbridge sc-sc\n",
      "LYS149 ASP297 saltbridge sc-sc\n",
      "ASP180 ARG220 saltbridge sc-sc\n",
      "ARG198 ASP228 saltbridge sc-sc\n",
      "ASP235 LYS238 saltbridge sc-sc\n",
      "GLU251 LYS254 saltbridge sc-sc\n",
      "GLU275 LYS278 saltbridge sc-sc\n"
     ]
    }
   ],
   "source": [
    "for res1 in range(1, 298+1):\n",
    "    for res2 in range(res1, len(universe.residues) + 1): \n",
    "        result = check_for_salt_bridge(res_numbers=(res1, res2), universe=universe)\n",
    "        if result:\n",
    "            print(result)"
   ]
  },
  {
   "attachments": {},
   "cell_type": "markdown",
   "metadata": {},
   "source": [
    "Done and works, could also consider a sum of distances to measure total strength."
   ]
  },
  {
   "cell_type": "code",
   "execution_count": null,
   "metadata": {},
   "outputs": [],
   "source": []
  },
  {
   "attachments": {},
   "cell_type": "markdown",
   "metadata": {},
   "source": [
    "### Cation-Pi interactions\n",
    "\n",
    "Using this for definitions: https://www.ncbi.nlm.nih.gov/pmc/articles/PMC8338773/ \n"
   ]
  },
  {
   "cell_type": "code",
   "execution_count": 12,
   "metadata": {},
   "outputs": [
    {
     "data": {
      "text/plain": [
       "'TRP99 ARG168 CationPi SC-SC'"
      ]
     },
     "execution_count": 12,
     "metadata": {},
     "output_type": "execute_result"
    }
   ],
   "source": [
    "from tools_proj.contacts.cation_pi import check_for_cation_pi\n",
    "check_for_cation_pi(res_numbers=(99, 168), universe=universe)"
   ]
  },
  {
   "cell_type": "code",
   "execution_count": 13,
   "metadata": {},
   "outputs": [
    {
     "name": "stdout",
     "output_type": "stream",
     "text": [
      "TRP99 ARG168 CationPi SC-SC\n"
     ]
    }
   ],
   "source": [
    "for res1 in range(1, 298+1):\n",
    "    for res2 in range(res1, len(universe.residues) + 1): \n",
    "        result = check_for_cation_pi(res_numbers=(res1, res2), universe=universe)\n",
    "        if result:\n",
    "            print(result)"
   ]
  },
  {
   "cell_type": "code",
   "execution_count": null,
   "metadata": {},
   "outputs": [],
   "source": []
  },
  {
   "attachments": {},
   "cell_type": "markdown",
   "metadata": {},
   "source": [
    "Happy with this :) "
   ]
  },
  {
   "attachments": {},
   "cell_type": "markdown",
   "metadata": {},
   "source": [
    "### Pi-Pi Interactions\n",
    "Include stacking and t-shaped together \n",
    "\n",
    "Should include histidines also it seems. \n",
    "\n",
    "Referance for defintions:\n",
    "https://link.springer.com/article/10.1007/s12539-015-0263-z "
   ]
  },
  {
   "cell_type": "code",
   "execution_count": 14,
   "metadata": {},
   "outputs": [],
   "source": [
    "# Constants\n",
    "# From souce, 5 membered rings used for pi-pi stacking for TRP. \n",
    "PI_PI_RES_ATOMS = {\"TYR\": \"name CG CE1 CE2\", \"PHE\": \"name CG CE1 CE2\", \n",
    "                   \"TRP\": \"name CG CD2 NE1\", \"HIE\": \"name CG CD2 CE1\",\n",
    "                   \"HID\": \"name CG CD2 CE1\"} # HIP not included as positive\n",
    "\n",
    "# cutoffs\n",
    "PI_PI_D_CUT = 7.2\n",
    "PI_PI_ANGLE_TOLERANCE = 30 # how close to ideal the angle needs to be.\n",
    "\n",
    "\n",
    "\n",
    "# Ideal values\n",
    "PI_PI_DELTA_DISALLOWED = (-30, 30) # range of values NOT allowed# TODO double check. \n",
    "\n",
    "PI_PI_GAMMA_IDEAL_STACK = (-30, 30) # range of values allowed.\n",
    "PI_PI_GAMMA_IDEAL_TSHAPED = (50, 130) # range of values allowed. \n"
   ]
  },
  {
   "cell_type": "code",
   "execution_count": 15,
   "metadata": {},
   "outputs": [
    {
     "data": {
      "text/plain": [
       "('TRP', 'TYR')"
      ]
     },
     "execution_count": 15,
     "metadata": {},
     "output_type": "execute_result"
    }
   ],
   "source": [
    "#  15, 270 = t-shaped\n",
    "res1_numb, res2_numb = 15, 270 # 94, 123 # stacked ish...\n",
    "res1_sc_atoms = universe.select_atoms(\"not name C CA O N H and resid \" + str(res1_numb))\n",
    "res2_sc_atoms = universe.select_atoms(\"not name C CA O N H and resid \" + str(res2_numb))\n",
    "res1_name, res2_name = res1_sc_atoms.resnames[0], res2_sc_atoms.resnames[0]\n",
    "res1_name, res2_name"
   ]
  },
  {
   "cell_type": "code",
   "execution_count": 16,
   "metadata": {},
   "outputs": [],
   "source": [
    "if res1_name and res2_name not in PI_PI_RES_ATOMS:\n",
    "    # return None\n",
    "    print(\"would be skipped\") \n",
    "res1_pi_atoms = res1_sc_atoms.select_atoms(PI_PI_RES_ATOMS[res1_name])\n",
    "res2_pi_atoms = res2_sc_atoms.select_atoms(PI_PI_RES_ATOMS[res2_name])"
   ]
  },
  {
   "cell_type": "code",
   "execution_count": 17,
   "metadata": {},
   "outputs": [],
   "source": [
    "# distance check.\n",
    "com_dist = distances.distance_array(res1_pi_atoms.center_of_mass(), res2_pi_atoms.center_of_mass(), box=universe.dimensions)\n",
    "if com_dist > PI_PI_D_CUT: # too far away\n",
    "    # return None\n",
    "    print(\"would be skipped\")"
   ]
  },
  {
   "cell_type": "code",
   "execution_count": 18,
   "metadata": {},
   "outputs": [
    {
     "data": {
      "text/plain": [
       "103.70942177234181"
      ]
     },
     "execution_count": 18,
     "metadata": {},
     "output_type": "execute_result"
    }
   ],
   "source": [
    "# gamma (y) check\n",
    "# seems to be vector of normal of res1 ring and normal of res2 ring. \n",
    "from tools_proj.contacts.utils import angle_between_two_vectors, normal_vector_3_atoms\n",
    "res1_normal_vector = normal_vector_3_atoms(res1_pi_atoms.positions)\n",
    "res2_normal_vector = normal_vector_3_atoms(res2_pi_atoms.positions)\n",
    "gamma = angle_between_two_vectors(res1_normal_vector, res2_normal_vector)\n",
    "gamma"
   ]
  },
  {
   "cell_type": "code",
   "execution_count": 19,
   "metadata": {},
   "outputs": [
    {
     "name": "stdout",
     "output_type": "stream",
     "text": [
      "t-shaped\n"
     ]
    }
   ],
   "source": [
    "if (gamma >= PI_PI_GAMMA_IDEAL_TSHAPED[0]) and (gamma <= PI_PI_GAMMA_IDEAL_TSHAPED[1]):\n",
    "    print(\"t-shaped\")\n",
    "\n",
    "if (gamma >= PI_PI_GAMMA_IDEAL_STACK[0]) and (gamma <= PI_PI_GAMMA_IDEAL_STACK[1]):\n",
    "    print(\"Stacked\")\n",
    "\n",
    "# TODO - add one more test... \n",
    "\n",
    "# TODO - from paper, Fig 4b, there are more spurois interactions to remove.... \n",
    "\n",
    "\n",
    "# if none, then continue... "
   ]
  },
  {
   "cell_type": "code",
   "execution_count": null,
   "metadata": {},
   "outputs": [],
   "source": []
  },
  {
   "cell_type": "code",
   "execution_count": null,
   "metadata": {},
   "outputs": [],
   "source": []
  },
  {
   "attachments": {},
   "cell_type": "markdown",
   "metadata": {},
   "source": [
    "### (Side Chain) Hbonds\n",
    "\n",
    "Can have a protocol if topology provided, but otherwise, this will work with standard 20 amino acids \n",
    "Could the expansion just be that I add the backbone names to each one, and then select from the whole aa and not from the side chain? \n",
    "Once a hydrogen bond found, can label it based on the atoms used perhaps?"
   ]
  },
  {
   "cell_type": "code",
   "execution_count": 20,
   "metadata": {},
   "outputs": [],
   "source": [
    "SC_HBOND_RES_ATOMS_ACCEPTOR = {\"ASN\": [\"OD1\"], \n",
    "                                \"GLN\": [\"OE1\"], \n",
    "                                \"SER\": [\"OG\"], \n",
    "                                \"THR\": [\"OG1\"], \n",
    "                                \"TYR\": [\"OH\"], \n",
    "                                \"GLU\": [\"OE1\", \"OE2\"], \n",
    "                                \"GLU\": [\"OE1\", \"OE2\"],\n",
    "                                \"ASP\": [\"OD1\", \"OD2\"],\n",
    "                                \"ASH\": [\"OD1\", \"OD2\"],\n",
    "                                \"HIE\": [\"ND1\"],\n",
    "                                \"HID\": [\"NE2\"]\n",
    "}\n",
    "# List of possible combinations? \n",
    "# Hydrogens that match the pair? \n",
    "SC_HBOND_RES_ATOMS_DONOR = {\"ASN\": [{\"ND2\": [\"HD21\", \"HD22\"]}], \n",
    "                            \"ARG\": [{\"NE\": [\"HE\"]}, {\"NH1\": [\"HH11\", \"HH12\"]}, {\"NH2\": [\"HH21\", \"HH22\"]}], \n",
    "                            \"GLN\": [{\"NE2\": [\"HE21\", \"HE22\"]}],\n",
    "                            \"SER\": [{\"OG\": [\"HG\"]}],\n",
    "                            \"THR\": [{\"OG1\": [\"HG1\"]}],\n",
    "                            \"TYR\": [{\"OH\": [\"HH\"]}], \n",
    "                            \"HIE\": [{\"NE2\": [\"HE2\"]}], \n",
    "                            \"HID\": [{\"ND1\": [\"HD1\"]}], \n",
    "                            \"HIP\": [{\"NE2\": [\"HE2\"]}, {\"ND1\": [\"HD1\"]}],  \n",
    "                            \"LYS\": [{\"NZ\": [\"HZ1\", \"HZ2\", \"HZ3\"]}], \n",
    "                            \"LYN\": [{\"NZ\": [\"HZ2\", \"HZ3\"]}]\n",
    "}\n",
    "\n",
    "# cutoffs. \n",
    "HB_DIST_CUTOFF = 3.5 # Donor-acceptor Distance\n",
    "HB_ANGLE_IDEAL = 180 \n",
    "HB_ANGLE_TOLERANCE = 45 #"
   ]
  },
  {
   "cell_type": "code",
   "execution_count": 21,
   "metadata": {},
   "outputs": [
    {
     "data": {
      "text/plain": [
       "('ASN', 'ASN')"
      ]
     },
     "execution_count": 21,
     "metadata": {},
     "output_type": "execute_result"
    }
   ],
   "source": [
    "res1, res2 = 39, 63 # 39, 63 # Hbond, \n",
    "res1_bb_sele = \"name C CA O N H and resid \" + str(res1)\n",
    "res1_sc_sele = \"not name C CA O N H and resid \" + str(res1)\n",
    "res1_bb_atoms = universe.select_atoms(res1_bb_sele)\n",
    "res1_sc_atoms = universe.select_atoms(res1_sc_sele)\n",
    "\n",
    "res2_bb_sele = \"name C CA O N H and resid \" + str(res2)\n",
    "res2_sc_sele = \"not name C CA O N H and resid \" + str(res2)\n",
    "res2_bb_atoms = universe.select_atoms(res2_bb_sele)\n",
    "res2_sc_atoms = universe.select_atoms(res2_sc_sele)\n",
    "\n",
    "res1_name, res2_name = res_names[res1-1], res_names[res2-1]\n",
    "res1_name, res2_name"
   ]
  },
  {
   "cell_type": "code",
   "execution_count": 22,
   "metadata": {},
   "outputs": [
    {
     "name": "stdout",
     "output_type": "stream",
     "text": [
      "H-bond found!\n",
      "['OD1'] ['ND2'] ['HD21']\n"
     ]
    }
   ],
   "source": [
    "# Need to consider that if and elif can both be true, and need to test both! \n",
    "\n",
    "\n",
    "if (res1_name in SC_HBOND_RES_ATOMS_ACCEPTOR.keys()) and (res2_name in SC_HBOND_RES_ATOMS_DONOR.keys()):\n",
    "    hb_potential_acceptor_atoms = SC_HBOND_RES_ATOMS_ACCEPTOR[res1_name]\n",
    "    hb_potential_donor_h_pairs = SC_HBOND_RES_ATOMS_DONOR[res2_name]\n",
    "\n",
    "    combinations = list(itertools.product(hb_potential_acceptor_atoms, hb_potential_donor_h_pairs))\n",
    "\n",
    "    for acceptor, donor in combinations:\n",
    "        acceptor_atom = res1_sc_atoms.select_atoms(\"name \" + acceptor)\n",
    "        donor_atom = res2_sc_atoms.select_atoms(\"name \" + list(donor.keys())[0])\n",
    "\n",
    "        # remove donor_acceptor that fail distance test. \n",
    "        d_a_dist = distances.distance_array(acceptor_atom.positions, donor_atom.positions)\n",
    "        if d_a_dist > HB_DIST_CUTOFF:\n",
    "            continue\n",
    "\n",
    "        for hydrogen in list(donor.values())[0]:\n",
    "            hydrogen_atom = res2_sc_atoms.select_atoms(\"name \" + hydrogen)\n",
    "\n",
    "            dh_vector = donor_atom.positions[0] - hydrogen_atom.positions[0]\n",
    "            ha_vector = acceptor_atom.positions[0] - hydrogen_atom.positions[0] \n",
    "            dha_angle = angle_between_two_vectors(dh_vector, ha_vector) \n",
    "\n",
    "            delta_dha_ideal = min(\n",
    "                np.abs(dha_angle - HB_ANGLE_IDEAL),\n",
    "                np.abs(dha_angle - HB_ANGLE_IDEAL - 180)\n",
    "            )\n",
    "            if delta_dha_ideal < HB_ANGLE_TOLERANCE:\n",
    "                print(\"H-bond found!\")\n",
    "                print(acceptor_atom.names, donor_atom.names, hydrogen_atom.names)\n",
    "\n",
    "elif (res1_name in SC_HBOND_RES_ATOMS_DONOR.keys()) and (res2_name in SC_HBOND_RES_ATOMS_ACCEPTOR.keys()):\n",
    "    hb_potential_donor_h_pairs = SC_HBOND_RES_ATOMS_DONOR[res1_name]\n",
    "    hb_potential_acceptor_atoms = SC_HBOND_RES_ATOMS_ACCEPTOR[res2_name]\n",
    "    # TODO, logic would be here, for follow up.\n",
    "    # test_sc_hbond()\n",
    "\n",
    "else: \n",
    "    print(\"no hbonds possible.\")"
   ]
  },
  {
   "cell_type": "code",
   "execution_count": null,
   "metadata": {},
   "outputs": [],
   "source": []
  },
  {
   "cell_type": "code",
   "execution_count": null,
   "metadata": {},
   "outputs": [],
   "source": []
  },
  {
   "attachments": {},
   "cell_type": "markdown",
   "metadata": {},
   "source": [
    "### Hydrophobic\n",
    "\n",
    "Requirements:\n",
    "- 4 Å min distance.\n",
    "- Between two \"hydrophobic\" residues \n",
    "- The atoms that contact must be non-polar (e.g. carbon).\n",
    "- The atom should also be from the side-chain."
   ]
  },
  {
   "cell_type": "code",
   "execution_count": 5,
   "metadata": {},
   "outputs": [],
   "source": [
    "HYDROPHOBIC_RESIDUES = (\"ALA\", \"VAL\", \"LEU\", \"ILE\", \"PRO\", \"PHE\", \"CYS\")\n",
    "HYDROPHOBIC_CUTOFF_DIST = 4.00\n"
   ]
  },
  {
   "cell_type": "code",
   "execution_count": 8,
   "metadata": {},
   "outputs": [
    {
     "name": "stdout",
     "output_type": "stream",
     "text": [
      "[ 16  17  26  34  68  76 121 188 216 227 263 272 277  33  48  98 106 107\n",
      " 112 154 183 197 210 211 212 243 248 273 286  36  58  70  82  87 109 118\n",
      " 139 141 143 157 159 162 171 191 194 203 226 231 232 233 249 250 259 266\n",
      " 271 293 298   9  18  22  56  66  71  81 133 144 148 170 218 245 260 274\n",
      " 280  30  37  50  86  88 125 179 184 187 205 209 240   6  29  51  94 134\n",
      " 173 181 190 193 195 224 255 268 279  31  91 120 225 230]\n",
      "ALA34 PRO50 Hydrophobic interaction\n",
      "ALA76 LEU233 Hydrophobic interaction\n",
      "ALA188 LEU293 Hydrophobic interaction\n",
      "ALA227 PHE190 Hydrophobic interaction\n",
      "ALA272 PHE190 Hydrophobic interaction\n",
      "VAL48 ILE218 Hydrophobic interaction\n",
      "VAL98 LEU159 Hydrophobic interaction\n",
      "VAL98 ILE170 Hydrophobic interaction\n",
      "VAL98 PHE94 Hydrophobic interaction\n",
      "VAL106 PHE94 Hydrophobic interaction\n",
      "VAL107 VAL210 Hydrophobic interaction\n",
      "VAL107 LEU109 Hydrophobic interaction\n",
      "VAL107 PHE193 Hydrophobic interaction\n",
      "VAL112 LEU118 Hydrophobic interaction\n",
      "VAL154 PHE173 Hydrophobic interaction\n",
      "VAL183 PRO184 Hydrophobic interaction\n",
      "VAL183 PHE268 Hydrophobic interaction\n",
      "VAL197 LEU203 Hydrophobic interaction\n",
      "VAL197 PHE173 Hydrophobic interaction\n",
      "VAL210 VAL212 Hydrophobic interaction\n",
      "VAL210 LEU203 Hydrophobic interaction\n",
      "VAL211 PHE94 Hydrophobic interaction\n",
      "VAL212 LEU109 Hydrophobic interaction\n",
      "VAL243 CYS230 Hydrophobic interaction\n",
      "VAL248 LEU226 Hydrophobic interaction\n",
      "VAL248 LEU233 Hydrophobic interaction\n",
      "VAL273 CYS230 Hydrophobic interaction\n",
      "VAL286 PHE279 Hydrophobic interaction\n",
      "LEU36 PRO37 Hydrophobic interaction\n",
      "LEU58 ILE66 Hydrophobic interaction\n",
      "LEU70 ILE56 Hydrophobic interaction\n",
      "LEU70 PRO209 Hydrophobic interaction\n",
      "LEU82 LEU259 Hydrophobic interaction\n",
      "LEU82 ILE71 Hydrophobic interaction\n",
      "LEU87 PRO88 Hydrophobic interaction\n",
      "LEU109 PHE193 Hydrophobic interaction\n",
      "LEU109 PHE224 Hydrophobic interaction\n",
      "LEU141 LEU157 Hydrophobic interaction\n",
      "LEU141 PRO125 Hydrophobic interaction\n",
      "LEU141 PHE134 Hydrophobic interaction\n",
      "LEU143 LEU157 Hydrophobic interaction\n",
      "LEU143 PRO125 Hydrophobic interaction\n",
      "LEU159 ILE170 Hydrophobic interaction\n",
      "LEU171 PHE173 Hydrophobic interaction\n",
      "LEU191 PHE190 Hydrophobic interaction\n",
      "LEU194 PHE224 Hydrophobic interaction\n",
      "LEU226 ILE245 Hydrophobic interaction\n",
      "LEU231 ILE280 Hydrophobic interaction\n",
      "LEU249 LEU266 Hydrophobic interaction\n",
      "LEU249 ILE260 Hydrophobic interaction\n",
      "LEU259 ILE71 Hydrophobic interaction\n",
      "LEU259 ILE218 Hydrophobic interaction\n",
      "LEU266 ILE18 Hydrophobic interaction\n",
      "LEU266 ILE22 Hydrophobic interaction\n",
      "LEU271 PHE6 Hydrophobic interaction\n",
      "ILE56 ILE81 Hydrophobic interaction\n",
      "ILE81 PRO209 Hydrophobic interaction\n",
      "PRO30 PHE29 Hydrophobic interaction\n",
      "PRO86 PHE94 Hydrophobic interaction\n",
      "PRO184 PHE190 Hydrophobic interaction\n",
      "PRO184 PHE268 Hydrophobic interaction\n",
      "PHE29 PHE51 Hydrophobic interaction\n",
      "PHE134 CYS91 Hydrophobic interaction\n",
      "PHE173 PHE193 Hydrophobic interaction\n",
      "PHE190 PHE268 Hydrophobic interaction\n",
      "PHE193 PHE224 Hydrophobic interaction\n",
      "PHE195 PHE279 Hydrophobic interaction\n",
      "number of hydrophobic interactions: 67\n"
     ]
    }
   ],
   "source": [
    "protein_atoms = universe.select_atoms(\"protein\")\n",
    "residue_indices=[]\n",
    "for name in HYDROPHOBIC_RESIDUES:\n",
    "    residue_indices.append(protein_atoms.residues.resids[protein_atoms.residues.resnames == name])\n",
    "residue_indices=np.concatenate(residue_indices)\n",
    "print(residue_indices)\n",
    "side_chain_atoms = protein_atoms.select_atoms(\"not backbone\")\n",
    "counter=0\n",
    "\n",
    "for res1 in residue_indices:\n",
    "    res1_numb = res1 \n",
    "    res1_name = universe.residues.resnames[res1_numb-1]\n",
    "    res1_sc_sele = \" type C and not backbone and resid \" + str(res1)\n",
    "    res1_sc_atoms = universe.select_atoms(res1_sc_sele)\n",
    "    residue_indices = residue_indices[residue_indices != res1]\n",
    "        \n",
    "    for res2 in residue_indices:\n",
    "        res2_numb = res2 \n",
    "        res2_name = universe.residues.resnames[res2_numb-1] \n",
    "        res2_sc_sele = \" type C and not backbone and resid \" + str(res2)\n",
    "        res2_sc_atoms = universe.select_atoms(res2_sc_sele)\n",
    "        dist = distances.distance_array(\n",
    "                res1_sc_atoms.positions,\n",
    "                res2_sc_atoms.positions,\n",
    "                box=universe.dimensions\n",
    "                )\n",
    "        if dist.min() <= HYDROPHOBIC_CUTOFF_DIST:\n",
    "            print(res1_name + str(res1_numb) + \" \" + res2_name + str(res2_numb) + \" Hydrophobic interaction\")\n",
    "            counter +=1\n",
    "print(\"number of hydrophobic interactions:\", counter)\n"
   ]
  },
  {
   "cell_type": "code",
   "execution_count": null,
   "metadata": {},
   "outputs": [],
   "source": [
    "def hydrophobic_contacts():\n",
    "    "
   ]
  },
  {
   "attachments": {},
   "cell_type": "markdown",
   "metadata": {},
   "source": [
    "#### Metals?\n"
   ]
  },
  {
   "cell_type": "code",
   "execution_count": null,
   "metadata": {},
   "outputs": [],
   "source": []
  },
  {
   "cell_type": "code",
   "execution_count": null,
   "metadata": {},
   "outputs": [],
   "source": []
  }
 ],
 "metadata": {
  "kernelspec": {
   "display_name": "Python 3",
   "language": "python",
   "name": "python3"
  },
  "language_info": {
   "codemirror_mode": {
    "name": "ipython",
    "version": 3
   },
   "file_extension": ".py",
   "mimetype": "text/x-python",
   "name": "python",
   "nbconvert_exporter": "python",
   "pygments_lexer": "ipython3",
   "version": "3.10.9"
  },
  "orig_nbformat": 4
 },
 "nbformat": 4,
 "nbformat_minor": 2
}
