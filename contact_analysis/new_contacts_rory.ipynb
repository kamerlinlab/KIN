{
 "cells": [
  {
   "attachments": {},
   "cell_type": "markdown",
   "metadata": {},
   "source": [
    "### Attempt to make, new improved x-ray structure analyser"
   ]
  },
  {
   "cell_type": "code",
   "execution_count": 1,
   "metadata": {},
   "outputs": [
    {
     "name": "stderr",
     "output_type": "stream",
     "text": [
      "c:\\Users\\Rory Crean\\miniconda3\\envs\\tools_proj_py3_11\\Lib\\site-packages\\tqdm\\auto.py:21: TqdmWarning: IProgress not found. Please update jupyter and ipywidgets. See https://ipywidgets.readthedocs.io/en/stable/user_install.html\n",
      "  from .autonotebook import tqdm as notebook_tqdm\n",
      "c:\\Users\\Rory Crean\\miniconda3\\envs\\tools_proj_py3_11\\Lib\\site-packages\\MDAnalysis\\topology\\TPRParser.py:161: DeprecationWarning: 'xdrlib' is deprecated and slated for removal in Python 3.13\n",
      "  import xdrlib\n"
     ]
    }
   ],
   "source": [
    "from typing import Tuple, Optional, List\n",
    "import itertools\n",
    "import pandas as pd\n",
    "import numpy as np\n",
    "import time\n",
    "from MDAnalysis import Universe\n",
    "from MDAnalysis.analysis.hydrogenbonds.hbond_analysis import HydrogenBondAnalysis as HBA\n",
    "from MDAnalysis.analysis import distances"
   ]
  },
  {
   "cell_type": "code",
   "execution_count": 3,
   "metadata": {},
   "outputs": [
    {
     "name": "stdout",
     "output_type": "stream",
     "text": [
      "Sytem setup complete, identifying interactions now.\n",
      "count_pre_reject=14112\n",
      "count_post_reject=3429\n",
      "Analysis complete, the file test_file.txt has been written to disk\n",
      "Time taken: 0:02:00.938000\n",
      "['ALA2 GLU5 hbond mc-mc', 'ALA2 SER6 vdw mc-mc', 'ALA3 SER6 hbond mc-mc', 'ALA3 PRO7 vdw mc-wc', 'GLU4 THR31 vdw sc-mc', 'GLU4 LEU32 vdw wc-sc', 'GLU4 TRP260 vdw sc-sc', 'GLU4 ALA264 vdw sc-sc', 'GLU5 ALA9 hbond mc-mc', 'GLU5 LEU32 vdw mc-sc', 'GLU5 GLY33 vdw sc-mc', 'GLU5 HIE34 vdw sc-wc', 'GLU5 ARG35 vdw sc-mc', 'SER6 GLU10 hbond mc-mc', 'PRO7 ILE11 hbond mc-mc', 'PRO7 GLN259 vdw sc-sc', 'LEU8 GLU12 hbond mc-mc', 'LEU8 LEU19 vdw mc-sc', 'LEU8 VAL21 hydrophobic sc-sc', 'LEU8 LEU32 vdw sc-sc', 'LEU8 GLY33 vdw sc-mc', 'LEU8 HIE34 vdw sc-wc', 'LEU8 ALA253 vdw sc-mc', 'LEU8 ALA256 hydrophobic sc-sc', 'ALA9 ARG13 hbond mc-mc', 'ALA9 HIE34 vdw wc-sc', 'GLU10 ARG13 saltbridge sc-sc', 'GLU10 ARG14 hbond mc-mc', 'ILE11 SER15 hbond mc-mc', 'ILE11 LEU19 hydrophobic sc-sc', 'ILE11 VAL249 vdw sc-wc', 'ILE11 GLU252 vdw wc-sc', 'ILE11 ALA253 hydrophobic sc-sc', 'GLU12 GLY16 hbond mc-mc', 'GLU12 GLY17 vdw sc-mc', 'GLU12 ARG18 vdw sc-wc', 'GLU12 LEU19 hbond sc-mc', 'GLU12 HIE34 hbond sc-sc', 'GLU12 ARG35 saltbridge sc-sc', 'ARG14 GLU252 saltbridge sc-sc', 'SER15 TYR236 vdw wc-sc', 'SER15 VAL249 vdw sc-sc', 'SER15 GLU252 vdw sc-sc', 'GLY16 TYR236 hbond mc-sc', 'GLY16 ALA238 vdw mc-sc', 'GLY17 ASP237 vdw mc-mc', 'GLY17 ALA238 vdw mc-wc', 'ARG18 ARG35 vdw wc-sc', 'ARG18 GLU38 saltbridge sc-sc', 'ARG18 ARG39 hbond sc-mc', 'ARG18 PHE40 vdw wc-wc', 'ARG18 TYR147 vdw sc-sc', 'ARG18 TYR235 vdw mc-mc', 'ARG18 TYR236 vdw mc-wc', 'ARG18 ASP237 saltbridge sc-sc', 'ARG18 ASP237 hbond mc-mc', 'LEU19 VAL21 hydrophobic sc-sc', 'LEU19 HIE34 vdw mc-wc', 'LEU19 ARG35 vdw mc-sc', 'LEU19 PHE40 vdw mc-sc', 'LEU19 VAL234 hydrophobic sc-sc', 'LEU19 TYR235 vdw wc-mc', 'LEU19 TYR236 vdw wc-wc', 'LEU19 VAL249 vdw sc-sc', 'LEU19 ALA253 vdw sc-sc', 'GLY20 HIE34 vdw mc-mc', 'GLY20 ARG35 vdw mc-wc', 'GLY20 PHE40 vdw mc-sc', 'GLY20 PRO156 vdw mc-sc', 'GLY20 ALA233 vdw mc-mc', 'GLY20 VAL234 vdw mc-wc', 'GLY20 TYR235 hbond mc-mc', 'VAL21 LEU32 vdw mc-mc', 'VAL21 GLY33 vdw mc-mc', 'VAL21 HIE34 hbond mc-mc', 'VAL21 ALA36 vdw mc-wc', 'VAL21 PRO156 vdw mc-sc', 'VAL21 ALA233 vdw wc-mc', 'VAL21 VAL234 hydrophobic sc-sc', 'VAL21 ALA253 vdw sc-sc', 'PHE22 THR31 vdw sc-sc', 'PHE22 LEU32 vdw wc-mc', 'PHE22 GLY33 vdw mc-mc', 'PHE22 ALA36 hydrophobic sc-sc', 'PHE22 PRO156 hydrophobic sc-sc', 'PHE22 LYS157 vdw sc-wc', 'PHE22 ALA160 hydrophobic sc-sc', 'PHE22 LEU231 vdw mc-mc', 'PHE22 VAL232 vdw mc-wc', 'PHE22 ALA233 hbond mc-mc', 'ALA23 ARG30 vdw mc-mc', 'ALA23 THR31 vdw mc-wc', 'ALA23 LEU32 hbond mc-mc', 'ALA23 LEU231 vdw wc-mc', 'ALA23 VAL232 hydrophobic sc-sc', 'ALA23 PHE257 hydrophobic sc-sc', 'ALA23 TRP260 vdw wc-sc', 'ILE24 GLY29 vdw sc-mc', 'ILE24 ARG30 vdw wc-mc', 'ILE24 THR31 vdw wc-wc', 'ILE24 GLN164 vdw sc-sc', 'ILE24 PRO229 vdw mc-mc', 'ILE24 LEU230 vdw mc-wc', 'ILE24 LEU231 hbond mc-mc', 'ILE24 LEU231 hydrophobic sc-sc', 'ASP25 GLY27 hbond sc-mc', 'ASP25 GLY29 hbond mc-mc', 'ASP25 ARG30 hbond mc-mc', 'ASP25 ARG227 saltbridge sc-sc', 'ASP25 ALA228 vdw sc-wc', 'ASP25 PRO229 vdw wc-mc', 'ASP25 LEU230 vdw wc-sc', 'ASP25 TRP260 vdw mc-sc', 'ASP25 GLY265 vdw sc-mc', 'THR26 GLN164 vdw wc-sc', 'THR26 LEU168 vdw sc-sc', 'THR26 ALA228 vdw wc-wc', 'THR26 PRO229 hbond sc-mc', 'THR26 PRO229 hbond mc-mc', 'THR26 LEU230 vdw sc-mc', 'THR26 LEU231 vdw sc-sc', 'GLY27 ALA228 vdw mc-sc', 'SER28 ARG30 hbond sc-mc', 'SER28 GLY265 vdw sc-mc', 'ARG30 TRP260 vdw wc-sc', 'ARG30 ALA264 vdw sc-mc', 'ARG30 GLY265 saltbridge sc-mc', 'THR31 TRP260 vdw mc-sc', 'LEU32 PHE257 vdw sc-mc', 'LEU32 TRP260 hydrophobic sc-sc', 'ARG35 GLU38 saltbridge sc-sc', 'ARG35 GLU38 hbond mc-mc', 'ARG35 PHE40 vdw mc-sc', 'ARG35 PRO156 vdw mc-sc', 'ALA36 THR155 vdw mc-wc', 'ALA36 PRO156 vdw mc-wc', 'ALA36 LYS157 hbond mc-mc', 'ASP37 THR155 vdw mc-sc', 'ASP37 LYS157 saltbridge sc-sc', 'GLU38 THR154 vdw mc-mc', 'GLU38 THR155 vdw mc-wc', 'GLU38 PRO156 vdw mc-wc', 'ARG39 VAL134 hbond sc-mc', 'ARG39 VAL150 vdw sc-wc', 'ARG39 THR153 vdw sc-wc', 'ARG39 THR154 vdw wc-mc', 'ARG39 THR155 vdw wc-sc', 'PHE40 TYR147 vdw wc-sc', 'PHE40 ASP152 vdw mc-mc', 'PHE40 THR153 vdw mc-wc', 'PHE40 THR154 hbond mc-mc', 'PHE40 PRO156 hydrophobic sc-sc', 'PHE40 GLH215 vdw sc-sc', 'PHE40 TYR235 pipi sc-sc', 'PHE40 ASP237 vdw sc-wc', 'LEU41 SER144 vdw sc-mc', 'LEU41 ASN145 vdw sc-mc', 'LEU41 ARG146 vdw sc-mc', 'LEU41 TYR147 hbond mc-sc', 'LEU41 LEU151 vdw sc-mc', 'LEU41 ASP152 vdw wc-mc', 'LEU41 THR153 vdw wc-wc', 'LEU41 GLH215 vdw wc-sc', 'LEU41 ASN217 vdw mc-sc', 'LEU41 TYR235 vdw mc-sc', 'MET42 THR45 hbond mc-mc', 'MET42 PHE46 vdw wc-wc', 'MET42 THR135 vdw sc-sc', 'MET42 ARG136 vdw sc-mc', 'MET42 SER137 vdw sc-wc', 'MET42 ASP152 hbond mc-mc', 'MET42 THR153 vdw wc-mc', 'MET42 THR154 vdw sc-wc', 'MET42 GLY209 vdw mc-mc', 'MET42 ASN217 hbond mc-sc', 'MET42 TYR235 vdw mc-sc', 'CYS43 PHE46 hbond mc-mc', 'CYS43 ASN145 vdw wc-sc', 'CYS43 GLY209 vdw wc-mc', 'CYS43 THR210 vdw sc-mc', 'CYS43 SER211 vdw sc-wc', 'CYS43 GLH215 vdw sc-sc', 'CYS43 ASN217 vdw sc-sc', 'SER44 LYS47 hbond mc-mc', 'SER44 LYS47 hbond sc-sc', 'SER44 GLY48 vdw mc-mc', 'SER44 SER105 vdw sc-sc', 'SER44 ARG207 hbond mc-sc', 'SER44 PRO208 vdw wc-mc', 'SER44 GLY209 vdw wc-mc', 'SER44 THR210 vdw mc-mc', 'THR45 GLY48 hbond mc-mc', 'THR45 LEU49 vdw mc-mc', 'THR45 ILE159 vdw wc-sc', 'THR45 ARG207 vdw wc-wc', 'THR45 PRO208 vdw mc-mc', 'THR45 GLY209 vdw mc-mc', 'THR45 TYR219 vdw wc-sc', 'THR45 TYR235 hbond sc-sc', 'PHE46 LEU50 hbond mc-mc', 'PHE46 ALA110 hydrophobic sc-sc', 'PHE46 LEU123 vdw wc-sc', 'PHE46 GLU141 vdw sc-sc', 'LYS47 ALA51 hbond mc-mc', 'LYS47 VAL101 vdw wc-wc', 'LYS47 LEU102 vdw mc-sc', 'LYS47 SER105 hbond sc-mc', 'LYS47 ASP106 vdw sc-mc', 'LYS47 ASN107 hbond sc-sc', 'LYS47 ALA110 vdw sc-sc', 'LYS47 GLU141 saltbridge sc-sc', 'LYS47 ARG207 vdw wc-sc', 'GLY48 ALA52 vdw mc-wc', 'GLY48 LEU102 vdw mc-sc', 'GLY48 LEU180 vdw mc-sc', 'GLY48 ARG207 vdw mc-sc', 'GLY48 TYR219 vdw mc-sc', 'LEU49 GLN53 hbond mc-mc', 'LEU49 LEU123 vdw wc-sc', 'LEU49 VAL127 hydrophobic sc-sc', 'LEU49 THR135 vdw sc-sc', 'LEU49 THR162 vdw sc-sc', 'LEU49 TYR219 vdw mc-sc', 'LEU50 ILE54 hbond mc-mc', 'LEU50 ILE54 hydrophobic sc-sc', 'LEU50 LEU113 hydrophobic sc-sc', 'LEU50 MET114 hydrophobic sc-sc', 'LEU50 LEU123 vdw wc-sc', 'ALA51 LEU55 hbond mc-mc', 'ALA51 VAL101 vdw sc-sc', 'ALA51 LEU102 hydrophobic sc-sc', 'ALA51 LEU180 hydrophobic sc-sc', 'ALA52 ALA56 hbond mc-mc', 'ALA52 PHE126 vdw wc-sc', 'ALA52 LEU166 hydrophobic sc-sc', 'ALA52 LEU172 vdw wc-sc', 'ALA52 LEU180 vdw mc-sc', 'GLN53 ARG57 hbond mc-mc', 'GLN53 ALA117 vdw sc-wc', 'GLN53 ALA122 vdw sc-wc', 'GLN53 LEU123 vdw sc-wc', 'GLN53 PHE126 vdw wc-sc', 'ILE54 VAL58 hbond mc-mc', 'ILE54 ILE94 hydrophobic sc-sc', 'ILE54 CYS98 vdw sc-sc', 'ILE54 LEU113 hydrophobic sc-sc', 'ILE54 ALA117 hydrophobic sc-sc', 'LEU55 ASP59 hbond mc-mc', 'LEU55 LEU65 vdw sc-sc', 'LEU55 CYS98 vdw sc-sc', 'LEU55 LEU172 vdw sc-sc', 'LEU55 SER176 vdw wc-wc', 'LEU55 ARG179 vdw sc-sc', 'LEU55 LEU180 hydrophobic sc-sc', 'ALA56 SER60 hbond mc-sc', 'ALA56 SER60 hbond mc-mc', 'ALA56 PHE126 hydrophobic sc-sc', 'ALA56 LEU172 hydrophobic sc-sc', 'ARG57 GLY61 vdw mc-mc', 'ARG57 SER62 vdw wc-wc', 'ARG57 GLU63 saltbridge sc-sc', 'ARG57 GLU63 hbond mc-mc', 'ARG57 SER116 vdw sc-wc', 'ARG57 ALA117 vdw sc-wc', 'VAL58 GLY61 hbond mc-mc', 'VAL58 GLU63 vdw wc-wc', 'VAL58 LEU65 hydrophobic sc-sc', 'ASP59 LEU172 vdw sc-wc', 'ASP59 SER173 hbond sc-mc', 'ASP59 SER176 vdw sc-sc', 'GLU63 ARG64 hbond sc-mc', 'GLU63 ARG67 saltbridge sc-sc', 'GLU63 ILE94 vdw sc-sc', 'GLU63 SER116 vdw sc-sc', 'ARG64 ASP66 saltbridge sc-sc', 'ARG64 ARG67 hbond mc-mc', 'ARG64 ILE94 vdw mc-sc', 'LEU65 SER93 vdw mc-wc', 'LEU65 ILE94 vdw mc-wc', 'LEU65 GLU95 hbond mc-mc', 'LEU65 ARG179 vdw sc-sc', 'ASP66 SER93 vdw mc-sc', 'ARG67 MET92 vdw mc-mc', 'ARG67 SER93 vdw mc-wc', 'ARG67 ILE94 hbond mc-mc', 'ARG67 SER116 vdw sc-sc', 'LEU68 ALA91 vdw sc-sc', 'LEU68 MET92 vdw wc-mc', 'LEU68 SER93 vdw wc-wc', 'VAL69 GLY90 vdw mc-mc', 'VAL69 ALA91 vdw mc-wc', 'VAL69 MET92 hbond mc-mc', 'VAL69 ILE94 hydrophobic sc-sc', 'VAL69 LEU97 vdw sc-sc', 'VAL69 LEU112 vdw sc-sc', 'VAL69 ARG115 vdw sc-sc', 'HIE70 GLY90 vdw wc-mc', 'HIE70 ALA91 vdw wc-wc', 'HIE70 ARG115 hbond mc-sc', 'TYR71 ASP75 vdw wc-sc', 'TYR71 LEU76 vdw sc-sc', 'TYR71 THR83 hbond sc-mc', 'TYR71 ASN86 vdw sc-wc', 'TYR71 VAL87 vdw sc-wc', 'TYR71 GLY90 hbond mc-mc', 'TYR71 ALA91 vdw wc-mc', 'TYR71 MET92 vdw sc-wc', 'TYR71 LEU112 vdw sc-sc', 'THR72 ASP75 hbond mc-sc', 'THR72 ASP75 hbond mc-mc', 'THR72 LEU76 vdw mc-wc', 'THR72 VAL87 vdw mc-sc', 'GLU73 LYS74 saltbridge sc-sc', 'GLU73 LEU76 hbond mc-mc', 'GLU73 VAL87 vdw wc-sc', 'ASP75 THR108 vdw wc-sc', 'ASP75 LEU112 vdw sc-sc', 'ASP75 ARG115 saltbridge sc-sc', 'LEU76 THR83 vdw sc-wc', 'LEU76 LYS84 vdw sc-wc', 'LEU76 VAL87 vdw sc-sc', 'LEU76 THR108 vdw wc-sc', 'ILE77 SER80 hbond mc-sc', 'ILE77 ASN107 vdw sc-wc', 'ILE77 THR108 hbond mc-sc', 'ILE77 ILE111 vdw sc-sc', 'ILE77 GLU141 vdw sc-wc', 'PHE78 THR79 hbond mc-sc', 'PHE78 ASN107 vdw wc-wc', 'PHE78 GLU141 vdw sc-sc', 'PHE78 PRO142 hydrophobic sc-sc', 'PHE78 ASN145 vdw sc-sc', 'THR79 SER105 vdw mc-mc', 'THR79 ASP106 vdw mc-wc', 'THR79 ASN107 hbond mc-mc', 'SER80 LYS84 hbond mc-mc', 'SER80 ASP106 vdw wc-wc', 'SER80 ASN107 vdw wc-wc', 'SER80 THR108 hbond sc-sc', 'SER80 THR108 hbond sc-mc', 'PRO81 ALA85 hbond mc-mc', 'PRO81 GLU104 vdw sc-sc', 'PRO81 ASP106 vdw wc-sc', 'VAL82 ASN86 hbond mc-mc', 'VAL82 MET92 vdw wc-sc', 'VAL82 ALA100 hydrophobic sc-sc', 'VAL82 GLU104 vdw sc-sc', 'VAL82 ASP106 vdw wc-sc', 'THR83 VAL87 vdw mc-wc', 'THR83 MET92 vdw wc-sc', 'THR83 ASP106 hbond mc-sc', 'THR83 THR108 vdw sc-wc', 'THR83 ALA109 vdw sc-wc', 'LYS84 VAL87 hbond mc-mc', 'ASN86 GLY90 hbond mc-mc', 'ASN86 ALA91 vdw mc-mc', 'ASN86 MET92 vdw sc-sc', 'MET92 ALA96 vdw sc-sc', 'MET92 LEU97 hydrophobic sc-sc', 'SER93 ALA96 hbond sc-mc', 'SER93 LEU97 hbond mc-mc', 'ILE94 CYS98 hbond mc-mc', 'ILE94 LEU113 vdw sc-sc', 'GLU95 ARG99 hbond mc-mc', 'GLU95 ARG179 saltbridge sc-sc', 'ALA96 ALA100 hbond mc-mc', 'LEU97 VAL101 hbond mc-mc', 'LEU97 ALA109 vdw wc-wc', 'LEU97 LEU112 hydrophobic sc-sc', 'LEU97 LEU113 hydrophobic sc-sc', 'CYS98 LEU102 hbond mc-mc', 'CYS98 LEU113 vdw wc-sc', 'ARG99 VAL103 hbond mc-mc', 'ARG99 GLU104 vdw mc-mc', 'ALA100 GLU104 hbond mc-mc', 'ALA100 SER105 vdw mc-mc', 'ALA100 ASP106 hbond mc-mc', 'ALA100 ALA109 hydrophobic sc-sc', 'VAL101 SER105 hbond mc-mc', 'VAL101 ASP106 vdw wc-wc', 'VAL101 ALA109 vdw mc-sc', 'VAL101 ALA110 vdw sc-sc', 'VAL101 LEU113 vdw sc-sc', 'VAL101 ARG207 vdw mc-sc', 'LEU102 ARG179 vdw sc-mc', 'LEU102 LEU180 hydrophobic sc-sc', 'LEU102 GLY183 vdw wc-mc', 'LEU102 MET184 vdw sc-mc', 'LEU102 CYS187 vdw mc-wc', 'LEU102 ARG207 vdw wc-sc', 'VAL103 GLY183 vdw wc-mc', 'VAL103 ASP186 vdw sc-wc', 'VAL103 CYS187 vdw wc-wc', 'VAL103 LYS188 hbond mc-mc', 'VAL103 PRO189 vdw mc-wc', 'VAL103 ARG207 vdw mc-sc', 'GLU104 LYS188 vdw sc-sc', 'GLU104 PRO189 vdw wc-sc', 'SER105 PRO189 vdw sc-sc', 'SER105 ARG207 hbond sc-sc', 'ASP106 ALA109 hbond sc-mc', 'ASP106 ALA110 hbond mc-mc', 'ASN107 ILE111 hbond mc-mc', 'ASN107 GLU141 vdw wc-sc', 'THR108 LEU112 hbond mc-mc', 'ALA109 LEU113 hbond mc-mc', 'ALA110 MET114 hbond mc-mc', 'ILE111 MET114 hydrophobic sc-sc', 'ILE111 ARG115 hbond mc-mc', 'ILE111 TYR140 vdw sc-wc', 'ILE111 GLU141 vdw sc-mc', 'LEU112 SER116 hbond mc-mc', 'LEU113 ALA117 hbond mc-mc', 'MET114 GLY118 hbond mc-mc', 'MET114 GLY119 hbond mc-mc', 'MET114 PRO120 vdw sc-wc', 'MET114 TYR140 vdw sc-sc', 'ALA117 ALA122 vdw mc-sc', 'GLY118 ALA122 vdw mc-wc', 'GLY119 LEU123 hbond mc-mc', 'GLY119 TYR140 vdw mc-sc', 'PRO120 THR124 hbond mc-mc', 'PRO120 THR124 hbond mc-sc', 'PRO120 SER137 vdw wc-wc', 'PRO120 ASP138 vdw sc-mc', 'PRO120 ARG139 vdw sc-mc', 'PRO120 TYR140 vdw wc-sc', 'ALA121 ARG125 hbond mc-mc', 'ALA121 SER137 vdw mc-mc', 'ALA122 PHE126 hbond mc-mc', 'LEU123 VAL127 hbond mc-mc', 'LEU123 SER137 vdw sc-sc', 'THR124 ARG128 hbond mc-mc', 'THR124 THR135 vdw sc-mc', 'THR124 ARG136 vdw sc-wc', 'THR124 SER137 hbond sc-mc', 'ARG125 GLY129 hbond mc-mc', 'PHE126 LEU130 hbond mc-mc', 'PHE126 LEU130 hydrophobic sc-sc', 'PHE126 LEU166 hydrophobic sc-sc', 'VAL127 GLY131 vdw mc-mc', 'VAL127 ASP132 hbond mc-mc', 'VAL127 THR135 vdw sc-mc', 'ARG128 GLY131 hbond mc-mc', 'ARG128 ASP132 vdw wc-mc', 'ARG128 THR133 vdw sc-wc', 'ARG128 VAL134 vdw sc-mc', 'ARG128 THR135 vdw sc-mc', 'GLY129 ARG165 vdw mc-sc', 'LEU130 THR162 vdw sc-wc', 'LEU130 ARG165 vdw wc-sc', 'LEU130 LEU166 hydrophobic sc-sc', 'ASP132 THR135 hbond sc-mc', 'ASP132 THR135 hbond sc-sc', 'ASP132 ALA158 vdw sc-wc', 'ASP132 THR162 vdw sc-sc', 'VAL134 THR153 vdw mc-mc', 'VAL134 THR154 vdw sc-mc', 'VAL134 THR155 vdw sc-wc', 'VAL134 ALA158 hydrophobic sc-sc', 'THR135 THR153 vdw wc-mc', 'THR135 THR154 hbond sc-sc', 'THR135 ALA158 vdw sc-sc', 'THR135 ILE159 vdw sc-mc', 'ARG136 ASP138 saltbridge sc-sc', 'ARG136 VAL150 vdw sc-wc', 'ARG136 LEU151 vdw sc-wc', 'ARG136 ASP152 vdw wc-wc', 'ARG136 THR153 hbond mc-mc', 'SER137 ASP152 vdw wc-wc', 'ASP138 VAL150 vdw sc-mc', 'ASP138 LEU151 vdw sc-wc', 'ASP138 ASP152 hbond sc-mc', 'ASP138 ASP152 hbond mc-sc', 'ARG139 ASP143 saltbridge sc-sc', 'ARG139 SER144 vdw wc-wc', 'ARG139 ARG146 hbond sc-mc', 'ARG139 HIE148 vdw sc-wc', 'ARG139 LEU151 vdw sc-wc', 'ARG139 ASP152 saltbridge sc-sc', 'ARG139 ASP152 hbond mc-sc', 'TYR140 SER144 hbond mc-mc', 'GLU141 ASN145 hbond sc-sc', 'PRO142 ASN145 hbond mc-mc', 'PRO142 ARG146 vdw wc-wc', 'ASP143 ARG146 saltbridge sc-sc', 'ASP143 ARG146 hbond mc-mc', 'SER144 ASP152 vdw wc-sc', 'ASN145 THR210 vdw sc-mc', 'ASN145 SER211 vdw wc-sc', 'TYR147 ARG214 vdw sc-sc', 'TYR147 GLH215 hbond sc-sc', 'TYR147 ASP237 vdw sc-sc', 'HIE148 LEU151 hbond mc-mc', 'GLY149 THR153 vdw mc-sc', 'VAL150 THR153 hbond mc-sc', 'THR154 ALA158 vdw sc-wc', 'THR154 ILE159 vdw sc-wc', 'THR154 TYR235 vdw sc-sc', 'THR155 ALA158 hbond sc-mc', 'THR155 ILE159 hbond mc-mc', 'PRO156 ALA160 hbond mc-mc', 'PRO156 ALA233 vdw wc-wc', 'PRO156 TYR235 vdw wc-sc', 'LYS157 ALA161 hbond mc-mc', 'ALA158 THR162 hbond mc-mc', 'ILE159 ALA163 hbond mc-mc', 'ILE159 TYR219 vdw sc-sc', 'ILE159 ALA233 hydrophobic sc-sc', 'ILE159 TYR235 vdw sc-sc', 'ALA160 GLN164 hbond mc-mc', 'ALA160 LEU231 vdw mc-sc', 'ALA160 ALA233 vdw sc-sc', 'ALA161 ARG165 hbond mc-mc', 'THR162 LEU166 hbond mc-mc', 'ALA163 LEU167 hbond mc-mc', 'ALA163 TYR219 vdw sc-sc', 'ALA163 LEU231 hydrophobic sc-sc', 'GLN164 LEU168 hbond mc-mc', 'GLN164 GLY169 vdw mc-mc', 'GLN164 LEU231 vdw wc-sc', 'ARG165 GLY169 vdw wc-mc', 'ARG165 ASP170 vdw mc-mc', 'ARG165 VAL171 vdw wc-wc', 'LEU166 VAL171 hydrophobic sc-sc', 'LEU166 LEU172 vdw wc-sc', 'LEU166 ARG177 vdw mc-sc', 'LEU166 LEU180 vdw sc-sc', 'LEU167 ARG177 hbond mc-sc', 'LEU167 LEU180 hydrophobic sc-sc', 'LEU167 MET184 vdw sc-sc', 'LEU167 LEU221 hydrophobic sc-sc', 'LEU168 PRO229 vdw sc-sc', 'LEU168 LEU231 vdw sc-sc', 'VAL171 LEU172 hydrophobic sc-sc', 'LEU172 SER176 vdw wc-wc', 'LEU172 ARG177 vdw sc-wc', 'LEU172 LEU180 vdw sc-sc', 'SER173 ARG177 hbond mc-mc', 'ALA174 ALA178 hbond mc-mc', 'GLY175 ARG179 hbond mc-mc', 'GLY175 ARG182 vdw mc-sc', 'SER176 LEU180 hbond mc-mc', 'ARG177 GLU181 saltbridge sc-sc', 'ARG177 GLU181 hbond mc-mc', 'ARG177 ARG223 vdw sc-sc', 'ALA178 ARG182 hbond mc-mc', 'ARG179 GLY183 hbond mc-mc', 'LEU180 MET184 hbond mc-mc', 'GLU181 THR185 hbond mc-sc', 'GLU181 THR185 hbond mc-mc', 'GLU181 ALA205 vdw wc-sc', 'GLU181 LEU221 vdw sc-sc', 'GLU181 ARG223 saltbridge sc-sc', 'ARG182 ASP186 hbond mc-mc', 'GLY183 CYS187 vdw mc-wc', 'MET184 CYS187 hbond mc-mc', 'MET184 ARG195 vdw mc-sc', 'MET184 ALA205 hydrophobic sc-sc', 'MET184 ASP206 hbond mc-mc', 'MET184 ARG207 vdw sc-mc', 'MET184 TYR219 vdw sc-sc', 'THR185 ARG195 hbond mc-sc', 'THR185 LEU203 vdw sc-sc', 'THR185 ALA204 vdw wc-mc', 'THR185 ALA205 vdw wc-wc', 'ASP186 LYS188 hbond mc-sc', 'CYS187 LEU191 vdw mc-sc', 'CYS187 ARG195 vdw mc-sc', 'CYS187 ASP206 vdw wc-wc', 'CYS187 ARG207 vdw sc-sc', 'CYS187 PRO208 vdw sc-sc', 'LYS188 LEU191 hbond mc-mc', 'PRO189 ARG193 vdw mc-sc', 'PRO189 ARG207 vdw sc-sc', 'PRO189 PRO208 vdw wc-sc', 'PRO189 GLU247 vdw mc-sc', 'GLY190 ILE194 vdw mc-mc', 'GLY190 ASP206 vdw mc-sc', 'GLY190 PRO208 vdw mc-sc', 'GLY190 ASH218 vdw mc-sc', 'LEU191 ARG195 vdw wc-wc', 'LEU191 ALA196 vdw mc-wc', 'ASN192 ALA196 vdw wc-sc', 'ASN192 GLU247 vdw wc-wc', 'ASN192 ARG251 vdw wc-sc', 'ARG193 ALA196 hbond mc-mc', 'ARG193 ALA197 vdw mc-mc', 'ARG193 PRO208 vdw sc-sc', 'ARG193 GLY209 vdw sc-mc', 'ARG193 THR210 vdw sc-sc', 'ARG193 THR216 vdw sc-wc', 'ARG193 ASN217 vdw sc-mc', 'ARG193 ASH218 vdw wc-sc', 'ARG193 GLU247 saltbridge sc-sc', 'ARG193 LEU250 vdw wc-sc', 'ARG193 ARG251 vdw mc-wc', 'ILE194 ALA197 hbond mc-mc', 'ILE194 LEU198 vdw wc-wc', 'ILE194 ASH218 hbond mc-sc', 'ILE194 TYR219 vdw sc-mc', 'ILE194 ALA220 vdw sc-mc', 'ILE194 VAL232 hydrophobic sc-sc', 'ILE194 VAL234 hydrophobic sc-sc', 'ARG195 LEU198 hbond mc-mc', 'ARG195 ALA204 vdw sc-wc', 'ARG195 ASP206 saltbridge sc-sc', 'ALA196 ARG251 vdw sc-sc', 'ALA197 ARG251 vdw sc-mc', 'ALA197 GLY254 vdw sc-mc', 'ALA197 SER255 vdw sc-mc', 'ALA197 VAL258 vdw mc-sc', 'LEU198 PRO199 hydrophobic sc-sc', 'LEU198 TRP202 hydrophobic sc-sc', 'LEU198 ALA204 hydrophobic sc-sc', 'LEU198 VAL222 hydrophobic sc-sc', 'LEU198 PHE257 vdw sc-sc', 'LEU198 VAL258 hydrophobic sc-sc', 'PRO199 TRP202 hbond mc-mc', 'PRO199 TRP202 hydrophobic sc-sc', 'PRO199 VAL258 hydrophobic sc-sc', 'GLY201 PRO225 vdw mc-sc', 'TRP202 VAL222 hydrophobic sc-sc', 'TRP202 ARG223 vdw wc-mc', 'TRP202 PRO224 hydrophobic sc-sc', 'TRP202 PRO225 hydrophobic sc-sc', 'TRP202 VAL258 vdw sc-sc', 'TRP202 THR262 vdw sc-sc', 'LEU203 LEU221 vdw mc-mc', 'LEU203 VAL222 vdw mc-wc', 'LEU203 ARG223 hbond mc-mc', 'ALA204 LEU221 vdw wc-mc', 'ALA204 VAL222 vdw wc-mc', 'ALA205 TYR219 vdw mc-mc', 'ALA205 ALA220 vdw mc-wc', 'ALA205 LEU221 hbond mc-mc', 'ASP206 ASH218 vdw wc-sc', 'ASP206 TYR219 vdw wc-mc', 'ASP206 ALA220 vdw wc-wc', 'ARG207 ASH218 vdw mc-wc', 'ARG207 TYR219 hbond mc-mc', 'PRO208 ASN217 vdw wc-mc', 'PRO208 ASH218 vdw wc-wc', 'GLY209 GLH215 vdw mc-mc', 'GLY209 THR216 vdw mc-mc', 'GLY209 ASN217 hbond mc-mc', 'THR210 GLH215 vdw wc-mc', 'THR210 THR216 vdw wc-wc', 'THR210 ARG246 vdw sc-sc', 'SER211 ASP213 hbond sc-sc', 'SER211 GLH215 hbond sc-mc', 'SER211 GLH215 hbond mc-mc', 'SER211 ARG246 vdw wc-sc', 'VAL212 MET243 hydrophobic sc-sc', 'VAL212 ARG246 vdw mc-sc', 'ASP213 ARG214 hbond sc-mc', 'ASP213 ALA238 vdw mc-mc', 'ASP213 PRO239 vdw mc-mc', 'ASP213 GLY240 vdw mc-mc', 'ASP213 VAL241 vdw mc-mc', 'ASP213 ARG246 vdw mc-sc', 'ARG214 TYR236 vdw mc-mc', 'ARG214 ASP237 saltbridge sc-sc', 'ARG214 ALA238 hbond mc-mc', 'ARG214 PRO239 vdw wc-wc', 'ARG214 ARG246 vdw mc-sc', 'GLH215 TYR235 vdw sc-wc', 'GLH215 TYR236 vdw wc-mc', 'GLH215 ASP237 vdw sc-wc', 'GLH215 ARG246 vdw mc-sc', 'THR216 VAL234 vdw mc-mc', 'THR216 TYR235 vdw mc-mc', 'THR216 TYR236 hbond mc-mc', 'THR216 ARG246 vdw sc-wc', 'THR216 GLU247 vdw sc-mc', 'THR216 LEU250 vdw wc-sc', 'ASN217 VAL234 vdw wc-mc', 'ASN217 TYR235 vdw wc-wc', 'ASN217 TYR236 hbond sc-mc', 'ASN217 LEU250 vdw mc-sc', 'ASH218 VAL232 vdw mc-mc', 'ASH218 ALA233 vdw mc-wc', 'ASH218 VAL234 hbond mc-mc', 'TYR219 VAL232 vdw wc-mc', 'TYR219 ALA233 vdw wc-wc', 'TYR219 TYR235 vdw sc-sc', 'ALA220 LEU230 vdw mc-mc', 'ALA220 LEU231 vdw mc-wc', 'ALA220 VAL232 hbond mc-mc', 'LEU221 PRO229 hydrophobic sc-sc', 'LEU221 LEU230 vdw wc-mc', 'LEU221 LEU231 hydrophobic sc-sc', 'VAL222 PRO224 hydrophobic sc-sc', 'VAL222 PRO229 vdw mc-wc', 'VAL222 LEU230 hbond mc-mc', 'VAL222 VAL232 vdw sc-sc', 'VAL222 PHE257 vdw sc-sc', 'ARG223 PRO229 vdw sc-sc', 'PRO224 PRO225 hydrophobic sc-sc', 'PRO224 ALA228 vdw sc-mc', 'PRO224 LEU230 hydrophobic sc-sc', 'ARG227 ALA261 hbond sc-mc', 'ARG227 THR262 vdw sc-mc', 'ARG227 GLY265 saltbridge sc-mc', 'ALA228 PRO229 hydrophobic sc-sc', 'LEU230 PHE257 hydrophobic sc-sc', 'LEU230 TRP260 vdw sc-sc', 'LEU230 ALA261 hydrophobic sc-sc', 'VAL232 PHE257 vdw sc-sc', 'VAL234 LEU250 hydrophobic sc-sc', 'VAL234 ALA253 hydrophobic sc-sc', 'TYR236 VAL241 vdw sc-sc', 'TYR236 ARG246 vdw sc-wc', 'TYR236 VAL249 vdw sc-sc', 'TYR236 LEU250 vdw sc-sc', 'ALA238 VAL241 hbond mc-mc', 'ALA238 VAL241 hydrophobic sc-sc', 'VAL241 ALA245 hydrophobic sc-sc', 'VAL241 ARG246 vdw wc-wc', 'SER242 ALA245 hbond sc-mc', 'SER242 ARG246 hbond mc-mc', 'MET243 GLU247 hbond mc-mc', 'ASP244 ALA248 hbond mc-mc', 'ASP244 ARG251 vdw mc-sc', 'ALA245 VAL249 hbond mc-mc', 'ARG246 LEU250 hbond mc-mc', 'GLU247 ARG251 saltbridge sc-sc', 'GLU247 ARG251 hbond mc-mc', 'ALA248 GLU252 hbond mc-mc', 'VAL249 ALA253 hbond mc-mc', 'LEU250 GLY254 hbond mc-mc', 'ARG251 SER255 hbond mc-mc', 'GLU252 ALA256 hbond mc-mc', 'ALA253 PHE257 hbond mc-mc', 'GLY254 VAL258 hbond mc-mc', 'SER255 GLN259 hbond mc-mc', 'ALA256 TRP260 hbond mc-mc', 'PHE257 TRP260 pipi sc-sc', 'PHE257 ALA261 hbond mc-mc', 'VAL258 THR262 hbond mc-mc', 'VAL258 THR262 hbond mc-sc', 'GLN259 ASN263 hbond mc-mc', 'TRP260 ALA264 vdw wc-wc', 'TRP260 GLY265 hbond mc-mc', 'ALA261 GLY265 vdw mc-mc']\n"
     ]
    }
   ],
   "source": [
    "# Time taken: 0:04:21.360000 before filtering... \n",
    "# now 3:00:00... :) \n",
    "# now with loop fixed, 2 mins! :) \n",
    "\n",
    "from tools_proj.contacts.contact_analysis import single_frame_contact_analysis\n",
    "parm_file = r\"../protein_prep/5_tleap/5HW3_BVA-1_apo.prmtop\" # \n",
    "coord_file = r\"../protein_prep/5_tleap/5HW3_BVA-1_apo.inpcrd\"\n",
    "\n",
    "\n",
    "result_no_topo = single_frame_contact_analysis(\n",
    "    topology_file=parm_file,\n",
    "    coordinates_file=coord_file,\n",
    "    out_file=\"test_file.txt\",\n",
    "    # first_res=40,\n",
    "    # last_res=75,\n",
    ")\n",
    "print(result_no_topo)"
   ]
  },
  {
   "cell_type": "code",
   "execution_count": 3,
   "metadata": {},
   "outputs": [
    {
     "data": {
      "text/plain": [
       "65536"
      ]
     },
     "execution_count": 3,
     "metadata": {},
     "output_type": "execute_result"
    }
   ],
   "source": [
    "256*256"
   ]
  },
  {
   "cell_type": "code",
   "execution_count": 2,
   "metadata": {},
   "outputs": [
    {
     "data": {
      "text/plain": [
       "array([[ 0,  1,  4, ..., 15, 12, 14],\n",
       "       [ 1,  0,  1, ..., 13, 10, 11],\n",
       "       [ 4,  1,  0, ..., 10,  8, 10],\n",
       "       ...,\n",
       "       [15, 13, 10, ...,  0,  1,  3],\n",
       "       [12, 10,  8, ...,  1,  0,  1],\n",
       "       [14, 11, 10, ...,  3,  1,  0]])"
      ]
     },
     "execution_count": 2,
     "metadata": {},
     "output_type": "execute_result"
    }
   ],
   "source": [
    "# quick speed test for just this module\n",
    "from tools_proj.contacts.contact_analysis import _min_heavy_atom_distances\n",
    "parm_file = r\"../protein_prep/5_tleap/5HW3_BVA-1_apo.prmtop\" # \n",
    "traj_file = r\"../protein_prep/5_tleap/5HW3_BVA-1_apo.inpcrd\"\n",
    "universe = Universe(parm_file, traj_file) \n",
    "\n",
    "_min_heavy_atom_distances(universe=universe)\n",
    "\n",
    "# could I use this to cut-out middle man and make a list of all pairs to go through instead?\n",
    "# make a function called pre_filter_residues, \n",
    "# TODO, this is a good idea... spit out a list of tuples to actually test?\n"
   ]
  },
  {
   "cell_type": "code",
   "execution_count": null,
   "metadata": {},
   "outputs": [],
   "source": []
  },
  {
   "cell_type": "code",
   "execution_count": null,
   "metadata": {},
   "outputs": [],
   "source": []
  },
  {
   "cell_type": "code",
   "execution_count": null,
   "metadata": {},
   "outputs": [],
   "source": []
  },
  {
   "cell_type": "code",
   "execution_count": null,
   "metadata": {},
   "outputs": [],
   "source": [
    "# compare to above, make sure they produce same amount of data. \n",
    "result_p1 = single_frame_contact_analysis(\n",
    "    topology_file=parm_file,\n",
    "    coordinates_file=coord_file,\n",
    "    out_file=\"test_file.txt\",\n",
    "    first_res=1,\n",
    "    last_res=125,\n",
    ")\n",
    "\n",
    "result_p2 = single_frame_contact_analysis(\n",
    "    topology_file=parm_file,\n",
    "    coordinates_file=coord_file,\n",
    "    out_file=\"test_file.txt\",\n",
    "    first_res=126,\n",
    ")\n"
   ]
  },
  {
   "cell_type": "code",
   "execution_count": null,
   "metadata": {},
   "outputs": [],
   "source": [
    "len(result_p1), len(result_p2)"
   ]
  },
  {
   "cell_type": "code",
   "execution_count": null,
   "metadata": {},
   "outputs": [],
   "source": [
    "437+308"
   ]
  },
  {
   "cell_type": "code",
   "execution_count": null,
   "metadata": {},
   "outputs": [],
   "source": [
    "len(result_no_topo)"
   ]
  },
  {
   "cell_type": "code",
   "execution_count": null,
   "metadata": {},
   "outputs": [],
   "source": [
    "# compare to above, make sure they produce same amount of data. \n",
    "coord_file = r\"../protein_prep/5_tleap/5HW3_BVA-1_apo_postleap.pdb\" # \n",
    "result_p1_pdb = single_frame_contact_analysis(\n",
    "    coordinates_file=coord_file,\n",
    "    out_file=\"test_file.txt\",\n",
    "    first_res=1,\n",
    "    last_res=125,\n",
    ")\n",
    "\n",
    "result_p2_pdb = single_frame_contact_analysis(\n",
    "    coordinates_file=coord_file,\n",
    "    out_file=\"test_file.txt\",\n",
    "    first_res=126,\n",
    ")\n"
   ]
  },
  {
   "cell_type": "code",
   "execution_count": null,
   "metadata": {},
   "outputs": [],
   "source": [
    "len(result_p2_pdb), len(result_p1_pdb)"
   ]
  },
  {
   "cell_type": "code",
   "execution_count": null,
   "metadata": {},
   "outputs": [],
   "source": []
  },
  {
   "cell_type": "code",
   "execution_count": null,
   "metadata": {},
   "outputs": [],
   "source": [
    "matching = [s for s in result_no_topo if \"GLY265\" in s]\n",
    "matching"
   ]
  },
  {
   "cell_type": "code",
   "execution_count": null,
   "metadata": {},
   "outputs": [],
   "source": [
    "matching = [s for s in result_no_topo if \"hbond\" in s]\n",
    "print(len(matching))"
   ]
  },
  {
   "cell_type": "markdown",
   "metadata": {},
   "source": [
    "#### MDAnalysis, Hbond selection work\n",
    "Can have a subroutine, that chooses if a user has a toplogy file then we go that route... "
   ]
  },
  {
   "cell_type": "code",
   "execution_count": null,
   "metadata": {},
   "outputs": [],
   "source": [
    "from MDAnalysis.analysis.hydrogenbonds.hbond_analysis import HydrogenBondAnalysis as HBA\n",
    "\n",
    "parm_file = r\"4YFM_MAB-1_apo.prmtop\" \n",
    "traj_file = r\"4YFM_MAB-1_test_traj.nc\" \n",
    "universe = Universe(parm_file, traj_file) "
   ]
  },
  {
   "cell_type": "code",
   "execution_count": null,
   "metadata": {},
   "outputs": [],
   "source": [
    "hbonds = HBA(universe=universe)\n",
    "hbonds.run()"
   ]
  },
  {
   "cell_type": "code",
   "execution_count": null,
   "metadata": {},
   "outputs": [],
   "source": [
    "\n",
    "# MDAnalysis.exceptions.NoDataError will occur if topology has no charge info.\n",
    "\n",
    "# hbond_results is a nested array.\n",
    "# outer layer is a hbond found.\n",
    "# inner layer is: frame, donor, hydrogen, acceptor index, distance, angle\n",
    "hbond_results = hbonds.results.hbonds\n",
    "\n",
    "# Make list of all hbond residue pairs.\n",
    "hbond_pairs = []\n",
    "for observation in hbond_results:\n",
    "    donor_atom, acceptor_atom = observation[1], observation[3]\n",
    "\n",
    "    donor_resid = _atom_num_to_res_info(\n",
    "        atom_num=donor_atom, universe=universe)[1]\n",
    "    acceptor_resid = _atom_num_to_res_info(\n",
    "        atom_num=acceptor_atom, universe=universe)[1]\n",
    "\n",
    "    if (donor_resid, acceptor_resid) not in hbond_pairs:\n",
    "        hbond_pairs.append((donor_resid, acceptor_resid))\n",
    "\n",
    "print(hbond_pairs)"
   ]
  },
  {
   "cell_type": "code",
   "execution_count": null,
   "metadata": {},
   "outputs": [],
   "source": []
  },
  {
   "cell_type": "code",
   "execution_count": null,
   "metadata": {},
   "outputs": [],
   "source": []
  },
  {
   "cell_type": "code",
   "execution_count": null,
   "metadata": {},
   "outputs": [],
   "source": []
  },
  {
   "cell_type": "code",
   "execution_count": null,
   "metadata": {},
   "outputs": [],
   "source": []
  },
  {
   "cell_type": "code",
   "execution_count": null,
   "metadata": {},
   "outputs": [],
   "source": []
  },
  {
   "cell_type": "code",
   "execution_count": null,
   "metadata": {},
   "outputs": [],
   "source": []
  },
  {
   "cell_type": "code",
   "execution_count": null,
   "metadata": {},
   "outputs": [],
   "source": []
  },
  {
   "cell_type": "code",
   "execution_count": null,
   "metadata": {},
   "outputs": [],
   "source": []
  },
  {
   "cell_type": "code",
   "execution_count": null,
   "metadata": {},
   "outputs": [],
   "source": []
  },
  {
   "cell_type": "code",
   "execution_count": null,
   "metadata": {},
   "outputs": [],
   "source": []
  },
  {
   "cell_type": "code",
   "execution_count": null,
   "metadata": {},
   "outputs": [],
   "source": [
    "coord_file = r\"../protein_prep/5_tleap/5HW3_BVA-1_apo_postleap.pdb\"\n",
    "\n",
    "result_no_topo = single_frame_contact_analysis(\n",
    "    coordinates_file=coord_file,\n",
    "    out_file=\"test_file.txt\",\n",
    ")\n",
    "result_no_topo"
   ]
  },
  {
   "cell_type": "code",
   "execution_count": null,
   "metadata": {},
   "outputs": [],
   "source": []
  },
  {
   "cell_type": "code",
   "execution_count": null,
   "metadata": {},
   "outputs": [],
   "source": []
  },
  {
   "cell_type": "code",
   "execution_count": null,
   "metadata": {},
   "outputs": [],
   "source": [
    "result_yes_topo = single_frame_contact_analysis(topology_file=r\"WT_PTP1B_Closed.pdb\",\n",
    "                              coordinates_file=r\"WT_PTP1B_Closed.pdb\",\n",
    "                             out_file=\"test_file.txt\",\n",
    "                             first_res=1,\n",
    "                             last_res=298)\n",
    "result_yes_topo"
   ]
  },
  {
   "attachments": {},
   "cell_type": "markdown",
   "metadata": {},
   "source": [
    "### Testing multiple frame analysis"
   ]
  },
  {
   "cell_type": "code",
   "execution_count": null,
   "metadata": {},
   "outputs": [],
   "source": [
    "from tools_proj.contacts.contact_analysis import multi_frame_contact_analysis\n",
    "\n",
    "# # Using pdb as both \n",
    "# parm_file = r\"4YFM_MAB-1_test_traj.pdb\" \n",
    "# traj_file = r\"4YFM_MAB-1_test_traj.pdb\" # 5 frames. \n",
    "\n",
    "# results_pdb = multi_frame_contact_analysis(topology_file=parm_file,\n",
    "#                              trajectory_file=traj_file,\n",
    "#                              out_file=\"traj_test.txt\",\n",
    "#                              report_time_taken = True\n",
    "# )\n",
    "# results_pdb"
   ]
  },
  {
   "cell_type": "code",
   "execution_count": null,
   "metadata": {},
   "outputs": [],
   "source": [
    "# results_pdb_single = multi_frame_contact_analysis(#topology_file=parm_file,\n",
    "#                              trajectory_file=traj_file,\n",
    "#                              out_file=\"traj_test.txt\",\n",
    "#                              first_res=1,\n",
    "#                              #last_res=282, \n",
    "#                              report_time_taken = True\n",
    "# )\n",
    "# results_pdb_single"
   ]
  },
  {
   "cell_type": "code",
   "execution_count": null,
   "metadata": {},
   "outputs": [],
   "source": [
    "# Using prmtop and traj...\n",
    "parm_file = r\"4YFM_MAB-1_apo.prmtop\" \n",
    "traj_file = r\"4YFM_MAB-1_test_traj.nc\" # 5 frames. \n",
    "\n",
    "results_prmtop_traj = multi_frame_contact_analysis(topology_file=parm_file,\n",
    "                             trajectory_file=traj_file,\n",
    "                             out_file=\"doesn't matter now\",\n",
    "                             last_res=100, \n",
    "                             report_time_taken = True\n",
    ")\n",
    "results_prmtop_traj"
   ]
  },
  {
   "cell_type": "code",
   "execution_count": null,
   "metadata": {},
   "outputs": [],
   "source": []
  },
  {
   "attachments": {},
   "cell_type": "markdown",
   "metadata": {},
   "source": [
    "#### New form of pymol projections...\n",
    "\n",
    "Draw links no longer works"
   ]
  },
  {
   "cell_type": "code",
   "execution_count": null,
   "metadata": {},
   "outputs": [],
   "source": [
    "mean_values = results_prmtop_traj.mean().to_dict()\n",
    "print(mean_values)"
   ]
  },
  {
   "cell_type": "code",
   "execution_count": null,
   "metadata": {},
   "outputs": [],
   "source": [
    "import re\n",
    "pymol_mean_values = {}\n",
    "\n",
    "INTERACTION_TO_COLOR = {\"saltbridge\": \"blue\", \"vdw\": \"green\", \"cationpi\": \"yellow\", \"pipi\":\"orange\"}\n",
    "\n",
    "res_res_scores, res_res_colors = {}, {}\n",
    "for key, score in mean_values.items():\n",
    "    res1, res2, interaction_type, residue_parts = key.split(\" \")\n",
    "    res1_numb = int(re.sub(r\"[^0-9]\", \"\", res1))\n",
    "    res2_numb = int(re.sub(r\"[^0-9]\", \"\", res2))\n",
    "    reformatted_key = (res1_numb, res2_numb)\n",
    "    res_res_scores[reformatted_key] = score\n",
    "    res_res_colors[reformatted_key] = INTERACTION_TO_COLOR[interaction_type]\n",
    "\n",
    "print(res_res_colors)\n",
    "print(res_res_scores)"
   ]
  },
  {
   "cell_type": "code",
   "execution_count": null,
   "metadata": {},
   "outputs": [],
   "source": [
    "from tools_proj.pymol_projections import project_pymol_res_res_scores, project_pymol_per_res_scores, gen_per_res_scores\n",
    "\n",
    "project_pymol_res_res_scores(res_res_scores=res_res_scores, \n",
    "                             res_res_colors=res_res_colors, \n",
    "                             out_file=\"test_pymol_out.py\")\n",
    "\n",
    "# no colors \n",
    "project_pymol_res_res_scores(res_res_scores=res_res_scores, \n",
    "                             out_file=\"test_pymol_out_no_colors.py\")"
   ]
  },
  {
   "cell_type": "code",
   "execution_count": null,
   "metadata": {},
   "outputs": [],
   "source": [
    "print(res_res_scores)"
   ]
  },
  {
   "cell_type": "code",
   "execution_count": null,
   "metadata": {},
   "outputs": [],
   "source": [
    "per_res_scores = gen_per_res_scores(res_res_scores=res_res_scores)"
   ]
  },
  {
   "cell_type": "code",
   "execution_count": null,
   "metadata": {},
   "outputs": [],
   "source": [
    "project_pymol_per_res_scores(per_res_scores=per_res_scores, out_file=\"test_pymol_per_res_out.py\")"
   ]
  },
  {
   "cell_type": "code",
   "execution_count": null,
   "metadata": {},
   "outputs": [],
   "source": []
  },
  {
   "cell_type": "code",
   "execution_count": null,
   "metadata": {},
   "outputs": [],
   "source": []
  },
  {
   "cell_type": "code",
   "execution_count": null,
   "metadata": {},
   "outputs": [],
   "source": []
  },
  {
   "cell_type": "code",
   "execution_count": null,
   "metadata": {},
   "outputs": [],
   "source": []
  },
  {
   "cell_type": "code",
   "execution_count": null,
   "metadata": {},
   "outputs": [],
   "source": []
  },
  {
   "cell_type": "code",
   "execution_count": null,
   "metadata": {},
   "outputs": [],
   "source": []
  },
  {
   "cell_type": "code",
   "execution_count": null,
   "metadata": {},
   "outputs": [],
   "source": []
  },
  {
   "cell_type": "code",
   "execution_count": null,
   "metadata": {},
   "outputs": [],
   "source": []
  },
  {
   "cell_type": "code",
   "execution_count": null,
   "metadata": {},
   "outputs": [],
   "source": []
  },
  {
   "attachments": {},
   "cell_type": "markdown",
   "metadata": {},
   "source": [
    "### (Side Chain) Hbonds\n",
    "\n",
    "Can have a protocol if topology provided, but otherwise, this will work with standard 20 amino acids \n",
    "Could the expansion just be that I add the backbone names to each one, and then select from the whole aa and not from the side chain? \n",
    "Once a hydrogen bond found, can label it based on the atoms used perhaps?\n",
    "\n",
    "Hbond defintion:\n",
    "- up till 3.5 A, reducing between 2 and 3.5 good.\n",
    "- 180 +- 45 degrees?, towards 180 = better.\n",
    "- Could try to make a model that swaps between 0 and 1 for this? "
   ]
  },
  {
   "cell_type": "code",
   "execution_count": null,
   "metadata": {},
   "outputs": [],
   "source": [
    "MC_HBOND_ACCEPTORS = [\"O\", \"OXT\"]\n",
    "MC_HBOND_DONORS = [{\"N\": [\"H\"]}]\n",
    " \n",
    "SC_HBOND_RES_ATOMS_ACCEPTOR = {\"ASN\": [\"OD1\"], \n",
    "                                \"GLN\": [\"OE1\"], \n",
    "                                \"SER\": [\"OG\"], \n",
    "                                \"THR\": [\"OG1\"], \n",
    "                                \"TYR\": [\"OH\"], \n",
    "                                \"GLU\": [\"OE1\", \"OE2\"], \n",
    "                                \"GLU\": [\"OE1\", \"OE2\"],\n",
    "                                \"ASP\": [\"OD1\", \"OD2\"],\n",
    "                                \"ASH\": [\"OD1\", \"OD2\"],\n",
    "                                \"HIE\": [\"ND1\"],\n",
    "                                \"HID\": [\"NE2\"]\n",
    "}\n",
    "# List of possible combinations? \n",
    "# Hydrogens that match the pair? \n",
    "SC_HBOND_RES_ATOMS_DONOR = {\"ASN\": [{\"ND2\": [\"HD21\", \"HD22\"]}], \n",
    "                            \"ARG\": [{\"NE\": [\"HE\"]}, {\"NH1\": [\"HH11\", \"HH12\"]}, {\"NH2\": [\"HH21\", \"HH22\"]}], \n",
    "                            \"GLN\": [{\"NE2\": [\"HE21\", \"HE22\"]}],\n",
    "                            \"SER\": [{\"OG\": [\"HG\"]}],\n",
    "                            \"THR\": [{\"OG1\": [\"HG1\"]}],\n",
    "                            \"TYR\": [{\"OH\": [\"HH\"]}], \n",
    "                            \"HIE\": [{\"NE2\": [\"HE2\"]}], \n",
    "                            \"HID\": [{\"ND1\": [\"HD1\"]}], \n",
    "                            \"HIP\": [{\"NE2\": [\"HE2\"]}, {\"ND1\": [\"HD1\"]}],  \n",
    "                            \"LYS\": [{\"NZ\": [\"HZ1\", \"HZ2\", \"HZ3\"]}], \n",
    "                            \"LYN\": [{\"NZ\": [\"HZ2\", \"HZ3\"]}]\n",
    "}\n",
    "\n",
    "# cutoffs. \n",
    "HB_DIST_CUTOFF = 3.5 # Donor-acceptor Distance\n",
    "HB_ANGLE_IDEAL = 180 \n",
    "HB_ANGLE_TOLERANCE = 45 #"
   ]
  },
  {
   "cell_type": "code",
   "execution_count": null,
   "metadata": {},
   "outputs": [],
   "source": [
    "parm_file = r\"WT_PTP1B_Closed.pdb\" \n",
    "traj_file = r\"WT_PTP1B_Closed.pdb\" \n",
    "universe = Universe(parm_file, traj_file) "
   ]
  },
  {
   "cell_type": "code",
   "execution_count": null,
   "metadata": {},
   "outputs": [],
   "source": [
    "res1, res2 = 39, 63 # 39, 63 # Hbond, \n",
    "# res1_mc_sele = \"name C CA O N H and resid \" + str(res1)\n",
    "# res1_mc_atoms = universe.select_atoms(res1_mc_sele)\n",
    "res1_name = universe.residues.resnames[res1-1] # 0-indexed\n",
    "res2_name = universe.residues.resnames[res2-1] # 0-indexed\n",
    "res1_name, res2_name"
   ]
  },
  {
   "cell_type": "markdown",
   "metadata": {},
   "source": [
    "could make a complete list of acceptors and donors for each pair and then test each set one at a time? \n",
    "\n",
    "- yep, make a function, called prep_acceptor_donors "
   ]
  },
  {
   "cell_type": "code",
   "execution_count": null,
   "metadata": {},
   "outputs": [],
   "source": [
    "from tools_proj.contacts.utils import angle_between_two_vectors"
   ]
  },
  {
   "cell_type": "code",
   "execution_count": null,
   "metadata": {},
   "outputs": [],
   "source": [
    "def _prep_donor_acceptors(res1_name:str, res2_name:str) -> Tuple[list, list]:\n",
    "    \"\"\"\n",
    "    Prepare the donor and acceptors combinations. \n",
    "    \"\"\"\n",
    "    # start with the main chain donor and acceptors\n",
    "    res1_acceptors, res2_acceptors = [\"O\", \"OXT\"], [\"O\", \"OXT\"]\n",
    "    res1_donors, res2_donors = [{\"N\": [\"H\"]}], [{\"N\": [\"H\"]}]\n",
    "\n",
    "    # add in side chain donor and acceptors. \n",
    "    if res1_name in SC_HBOND_RES_ATOMS_ACCEPTOR:\n",
    "        res1_acceptors += SC_HBOND_RES_ATOMS_ACCEPTOR[res1_name]\n",
    "\n",
    "    if res1_name in SC_HBOND_RES_ATOMS_DONOR:\n",
    "        res1_donors += SC_HBOND_RES_ATOMS_DONOR[res1_name]\n",
    "\n",
    "    if res2_name in SC_HBOND_RES_ATOMS_ACCEPTOR:\n",
    "        res2_acceptors += SC_HBOND_RES_ATOMS_ACCEPTOR[res2_name]\n",
    "\n",
    "    if res2_name in SC_HBOND_RES_ATOMS_DONOR:\n",
    "        res2_donors += SC_HBOND_RES_ATOMS_DONOR[res2_name]\n",
    "\n",
    "    # make all possible combinations. \n",
    "    res1_don_res2_acc = list(itertools.product(res1_donors, res2_acceptors))\n",
    "    res2_don_res1_acc = list(itertools.product(res2_donors, res1_acceptors))\n",
    "    return res1_don_res2_acc, res2_don_res1_acc"
   ]
  },
  {
   "cell_type": "code",
   "execution_count": null,
   "metadata": {},
   "outputs": [],
   "source": [
    "def _identify_hbond(donor_acceptor_combos, donor_res_numb, acceptor_res_numb):\n",
    "    \"\"\" \n",
    "    Given a combination of donor and acceptor atoms, test if any hydrogen bonds\n",
    "    are present. \n",
    "    \"\"\"\n",
    "    hbonds_found = []\n",
    "    for donor_combo, acceptor in donor_acceptor_combos:\n",
    "        donor = list(donor_combo.keys())[0]\n",
    "        donor_str = \"name \" + donor + \" and resid \" + str(donor_res_numb)\n",
    "        donor_atom =  universe.select_atoms(donor_str)\n",
    "        \n",
    "        acceptor_str = \"name \" + acceptor + \" and resid \" + str(acceptor_res_numb)\n",
    "        acceptor_atom = universe.select_atoms(acceptor_str)\n",
    "        \n",
    "        # can occur if atom names don't exist for that residue (e.g. OXT).\n",
    "        if (len(donor_atom) == 0) or (len(acceptor_atom) == 0):\n",
    "            continue \n",
    "        \n",
    "        # remove donor_acceptor that fail distance test. \n",
    "        d_a_dist = distances.distance_array(acceptor_atom.positions, donor_atom.positions)\n",
    "        if d_a_dist > HB_DIST_CUTOFF:\n",
    "            continue\n",
    "\n",
    "        for hydrogen in list(donor_combo.values())[0]:\n",
    "            hydrogen_str = \"name \" + hydrogen + \" and resid \" + str(donor_res_numb)\n",
    "            hydrogen_atom = universe.select_atoms(hydrogen_str)\n",
    "\n",
    "            dh_vector = donor_atom.positions[0] - hydrogen_atom.positions[0]\n",
    "            ha_vector = acceptor_atom.positions[0] - hydrogen_atom.positions[0] \n",
    "            dha_angle = angle_between_two_vectors(dh_vector, ha_vector) \n",
    "\n",
    "            delta_dha_ideal = min(\n",
    "                np.abs(dha_angle - HB_ANGLE_IDEAL),\n",
    "                np.abs(dha_angle - HB_ANGLE_IDEAL - 180)\n",
    "            )\n",
    "            if delta_dha_ideal < HB_ANGLE_TOLERANCE:\n",
    "                hbonds_found.append( (donor_res_numb, donor, acceptor_res_numb, acceptor) )\n",
    "    return hbonds_found"
   ]
  },
  {
   "cell_type": "code",
   "execution_count": null,
   "metadata": {},
   "outputs": [],
   "source": [
    "res1_don_res2_acc, res2_don_res1_acc = _prep_donor_acceptors(res1_name, res2_name)\n",
    "print(res1_don_res2_acc)\n",
    "print(res2_don_res1_acc)"
   ]
  },
  {
   "cell_type": "code",
   "execution_count": null,
   "metadata": {},
   "outputs": [],
   "source": [
    "hbonds_found = []\n",
    "hbonds_found += _identify_hbond(donor_acceptor_combos=res1_don_res2_acc, \n",
    "              donor_res_numb=res1, \n",
    "               acceptor_res_numb=res2) \n",
    "\n",
    "hbonds_found += _identify_hbond(donor_acceptor_combos=res2_don_res1_acc, \n",
    "              donor_res_numb=res2, \n",
    "               acceptor_res_numb=res1) \n",
    "\n",
    "hbonds_found"
   ]
  },
  {
   "cell_type": "code",
   "execution_count": null,
   "metadata": {},
   "outputs": [],
   "source": [
    "if len(hbonds_found) == 0:\n",
    "    #return None\n",
    "    print(\"not possible\")"
   ]
  },
  {
   "cell_type": "code",
   "execution_count": null,
   "metadata": {},
   "outputs": [],
   "source": [
    "# figure out formatting. \n",
    "# determine which parts (mainchain or sidechain or both) are involved for both residues.\n",
    "# wc = whole chain, i.e. both mc and sc interacting for that residue.\n",
    "hbonds_formatted = []\n",
    "for hbond in hbonds_found:\n",
    "    donor_res_numb, donor, acceptor_res_numb, acceptor = hbond\n",
    "\n",
    "    if donor == \"N\":\n",
    "        donor_part = \"mc\"\n",
    "    else: \n",
    "        donor_part = \"sc\"\n",
    "\n",
    "    if acceptor in [\"O\", \"OXT\"]:\n",
    "        acceptor_part = \"mc\"\n",
    "    else: \n",
    "        acceptor_part = \"sc\"\n",
    "\n",
    "    if donor_res_numb < acceptor_res_numb:\n",
    "        hbond_str = res1_name + str(res1) + \" \" + res2_name + str(res2) + \" hbond \" + donor_part + \"-\" + acceptor_part\n",
    "    else: \n",
    "        hbond_str = res1_name + str(res1) + \" \" + res2_name + str(res2) + \" hbond \" +  acceptor_part + \"-\" + donor_part \n",
    "\n",
    "    hbonds_formatted.append(hbond_str)\n",
    "hbonds_formatted"
   ]
  },
  {
   "cell_type": "code",
   "execution_count": null,
   "metadata": {},
   "outputs": [],
   "source": [
    "# TODO - be cautious that multple hbonds could be found... "
   ]
  },
  {
   "cell_type": "code",
   "execution_count": null,
   "metadata": {},
   "outputs": [],
   "source": []
  },
  {
   "attachments": {},
   "cell_type": "markdown",
   "metadata": {},
   "source": [
    "### Metals?\n"
   ]
  },
  {
   "cell_type": "code",
   "execution_count": null,
   "metadata": {},
   "outputs": [],
   "source": []
  },
  {
   "cell_type": "code",
   "execution_count": null,
   "metadata": {},
   "outputs": [],
   "source": []
  }
 ],
 "metadata": {
  "kernelspec": {
   "display_name": "Python 3",
   "language": "python",
   "name": "python3"
  },
  "language_info": {
   "codemirror_mode": {
    "name": "ipython",
    "version": 3
   },
   "file_extension": ".py",
   "mimetype": "text/x-python",
   "name": "python",
   "nbconvert_exporter": "python",
   "pygments_lexer": "ipython3",
   "version": "3.11.4"
  },
  "orig_nbformat": 4
 },
 "nbformat": 4,
 "nbformat_minor": 2
}
