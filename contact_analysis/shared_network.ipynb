{
 "cells": [
  {
   "cell_type": "markdown",
   "metadata": {},
   "source": [
    "### Shared Interaction Network\n",
    "\n",
    "In this notebook we provide an example of KIN application to the set of MD trajectories and crystal structures. We have previously generated contacts based on each frame of a trunkated MD-trajectory for each prtein structure in the family (simulation_contacts). Here we will convert them into a shared interaction network and obtain an network of interactions that are preserved in the family but are lacking in the protein of choice, missing interaction network. Protein of choice used for both projections is TEM-1 (PDB 1M40). "
   ]
  },
  {
   "cell_type": "code",
   "execution_count": null,
   "metadata": {},
   "outputs": [],
   "source": [
    "import os\n",
    "from kin.msa_indexing import parse_fasta\n",
    "from kin.msa_indexing import indexing_pdb_to_msa\n",
    "from kin.msa_indexing import clean_up_sequence\n",
    "from kin.msa_indexing import parse_contact_output"
   ]
  },
  {
   "cell_type": "markdown",
   "metadata": {},
   "source": [
    " **1. Contact indexing according to the MSA alignment**\n",
    " \n",
    "First we need to convert sequence indexing of each protein to the shared indexing based on the multi-sequence alignment(MSA). Steps for MSA with modeller are described in the comparative_data/msa_scores. We will make a set of contacts from crystal structure and 2 sets of contacts from MD a varying MD cutoff (cutoff 10 and cutoff 50). MD cutoff is a measure of how retained certain interaction within the MD trajectory. For further information on selection of the MD cutoff please see the corresponding paper. "
   ]
  },
  {
   "cell_type": "markdown",
   "metadata": {},
   "source": [
    "***Crystal structure contact reindexing***"
   ]
  },
  {
   "cell_type": "code",
   "execution_count": null,
   "metadata": {},
   "outputs": [],
   "source": [
    "INPUT_DIRECTORY_CS= \"/Users/dariiayehorova/lk_research/tools-project/contact_analysis/crystal_contacts\"\n",
    "OUTPUT_DIRECTORY_CS = \"/Users/dariiayehorova/lk_research/tools-project/contact_analysis/dynamic_contacts_processing/msa_index_contacts/retention_10\"\n",
    "\n",
    "MSA_SEQ_FILE = \"/Users/dariiayehorova/lk_research/tools-project/contact_analysis/dynamic_contacts_processing/bettaLac.ali\"\n",
    "\n",
    "sequence_dict = parse_fasta(MSA_SEQ_FILE)\n",
    "# Crystal structure contacts\n",
    "if os.path.isdir(INPUT_DIRECTORY_CS):\n",
    "    for filename in os.listdir(INPUT_DIRECTORY_CS):\n",
    "        if filename.endswith(\".txt\"):\n",
    "            file_path = os.path.join(INPUT_DIRECTORY_CS, filename)\n",
    "            SYSTEM_NAME = filename.split(\".txt\")[0]\n",
    "            output_file_path = os.path.join(\n",
    "                OUTPUT_DIRECTORY_CS, f\"{SYSTEM_NAME}_msa_crystal.csv\"\n",
    "            )\n",
    "            #print(\"Processing \", SYSTEM_NAME)\n",
    "            seq, short_seq = clean_up_sequence(sequence_dict, SYSTEM_NAME)\n",
    "            pdb_df_md = parse_contact_output(\n",
    "                file_path, contact_type=\"crystal\",\n",
    "            )\n",
    "            msa_df_md = indexing_pdb_to_msa(seq, pdb_df_md)\n",
    "            msa_df_md.to_csv(output_file_path, index=False)"
   ]
  },
  {
   "cell_type": "markdown",
   "metadata": {},
   "source": [
    "***MD-based contact reindexing***"
   ]
  },
  {
   "cell_type": "code",
   "execution_count": null,
   "metadata": {},
   "outputs": [],
   "source": [
    "INPUT_DIRECTORY_MD = \"/Users/dariiayehorova/lk_research/tools-project/contact_analysis/simulation_contacts\"\n",
    "OUTPUT_DIRECTORY_10 = \"/Users/dariiayehorova/lk_research/tools-project/contact_analysis/dynamic_contacts_processing/msa_index_contacts/retention_10\"\n",
    "OUTPUT_DIRECTORY_50 = \"/Users/dariiayehorova/lk_research/tools-project/contact_analysis/dynamic_contacts_processing/msa_index_contacts/retention_50\"\n",
    "\n",
    "MSA_SEQ_FILE = \"/Users/dariiayehorova/lk_research/tools-project/contact_analysis/dynamic_contacts_processing/bettaLac.ali\"\n",
    "\n",
    "sequence_dict = parse_fasta(MSA_SEQ_FILE)\n",
    "outputs = [OUTPUT_DIRECTORY_10, OUTPUT_DIRECTORY_50]\n",
    "for output in outputs:\n",
    "    if not os.path.exists(output):\n",
    "        os.makedirs(output)\n",
    "    dirname = output.split(\"/\")[-1]\n",
    "    cutoff = dirname.split(\"_\")[-1]\n",
    "\n",
    "    for subdir in os.listdir(INPUT_DIRECTORY_MD):\n",
    "        subdir_path = os.path.join(INPUT_DIRECTORY_MD, subdir)\n",
    "        if os.path.isdir(subdir_path):\n",
    "            for filename in os.listdir(subdir_path):\n",
    "                if filename.endswith(\".csv\"):\n",
    "                    file_path = os.path.join(subdir_path, filename)\n",
    "                    SYSTEM_NAME = filename.split(\"_all\")[0]\n",
    "                    output_file_path = os.path.join(\n",
    "                        output, \"\", f\"{SYSTEM_NAME}_msa_md_{cutoff}.csv\"\n",
    "                    )\n",
    "\n",
    "                    #Convert residue nomenclature from MSA to the MDAnalysis \n",
    "                    #format and remove non-standard residues\n",
    "                    seq, short_seq = clean_up_sequence(sequence_dict, SYSTEM_NAME)\n",
    "                    \n",
    "                    #Parse the md contacts and apply desiered cutoff\n",
    "                    cutoff_value = float(cutoff) / 100\n",
    "                    pdb_df_md = parse_contact_output(\n",
    "                        file_path, contact_type=\"md\", retention_percent=cutoff_value\n",
    "                    )\n",
    "                    #Index the contacts according to the MSA\n",
    "                    msa_df_md = indexing_pdb_to_msa(seq, pdb_df_md)\n",
    "                    \n",
    "                    #save as csv\n",
    "                    msa_df_md.to_csv(output_file_path, index=False)\n",
    "\n"
   ]
  },
  {
   "cell_type": "markdown",
   "metadata": {},
   "source": [
    "**2. Form an interaction network for a protein of choice**\n",
    "\n",
    "Since we want to display the shared interaction network on a structure we need to select a reference structure for the interaction network. It is good to select a protein that, in your opinion, is a good representative of the family or a protein of a particular interest. There are 2 methods implemented to calculate conservation score of a contact: method 1 (**conservation_uniform==True**) disregards whether the ranked contacts are present in the structure of interest and evaluates all contacts based on their abundance in the family; method 2 (**conservation_uniform==False**) does not penalize the contact conservation score if the contact was not able to form due to the absence of the residues in the structure. These methods shown to be quite equivalent in structurally homogeneous families but the second method can be more beneficial for the protein groups with high structural variation. \n",
    "\n",
    "Network processing capabilities are analogous for both crystal structure and MD-based data. Here we will focus on the MD based network processing."
   ]
  },
  {
   "cell_type": "code",
   "execution_count": null,
   "metadata": {},
   "outputs": [],
   "source": [
    "from matplotlib import colors\n",
    "from kin.pymol_projections import project_pymol_res_res_scores\n",
    "from kin.pymol_projections import project_pymol_per_res_scores\n",
    "from kin.msa_network import common_network\n",
    "from kin.msa_network import plot_per_res_score\n",
    "from kin.msa_network import get_per_res_score\n",
    "from kin.msa_network import filter_network\n",
    "from matplotlib import pyplot as plt"
   ]
  },
  {
   "cell_type": "markdown",
   "metadata": {},
   "source": [
    "To form a shared interaction network we will use common network function. As this operation contains multiple functionalities we will go through input aqnd output variables. \n",
    "\n",
    "Generate a network for the TEM-1 protein\n",
    "\n",
    "**Input variable are:**\n",
    "\n",
    "        input_files - path to the directory with the msa indexed contacts\n",
    "        network_index - format of the output network\n",
    "        \"1M40_TEM-1\" - name of the protein of interest (should be consistent with the name in the MSA alignment file)\n",
    "        conservation_uniform - chooses netween two conservation methods, default is True\n",
    "        missing_network - if True, the network will be generated for the missing contacts\n",
    "        no_vdw - if True, the network will be generated without the van der Waals contacts\n",
    "        (this is the only filtering availabel as a part of network genration bcause number \n",
    "        of moderatly conserved vdw interaction can be very large, additional filtering can be applied with filter_network function)\n",
    "\n",
    "**Output variables are:**\n",
    "\n",
    "        conservation_tem - dictionary with the conserved interactions and their conservation scores\n",
    "        colors_int_type - dictionary with the contacts and the pymol-format colors that correspond to the interaction types\n",
    "        properties - dictionary with the contacts and their properties\n",
    "        miss_net - dictionary with the preserved interactions that re missing in TEM1 and their conservation scores\n",
    "        miss_colors - dictionary with the missing interactions and the pymol-format colors that correspond to the interaction types\n",
    "        miss_prop - dictionary with the missing interactions and their properties"
   ]
  },
  {
   "cell_type": "markdown",
   "metadata": {},
   "source": [
    "Additionally we can apply a variety of filters to either of the networks.\n",
    "\n",
    "We can filter the network by the minimum conservation score, interactions type, side chain or main chain contacts  \n",
    "\n",
    "Interactions can be filtered by any type of the folowwing interaction: \"vdw\", \"hbond\", \"saltbridge\", \"hydrophobic\",\"pipi\",\"cationpi\".\n",
    "\n",
    "We can also filter by minimum conservation score, for example if min_score=0.5, saved interactions will be conserved preserved in at least 50% of the structures"
   ]
  },
  {
   "cell_type": "code",
   "execution_count": null,
   "metadata": {},
   "outputs": [],
   "source": [
    "input_fiels_10 = \"/Users/dariiayehorova/lk_research/tools-project/contact_analysis/dynamic_contacts_processing/msa_index_contacts/retention_10\"\n",
    "input_fiels_50 = \"/Users/dariiayehorova/lk_research/tools-project/contact_analysis/dynamic_contacts_processing/msa_index_contacts/retention_50\"\n",
    "msa_alignment = \"/Users/dariiayehorova/lk_research/tools-project/contact_analysis/dynamic_contacts_processing/bettaLac.ali\"\n",
    "# Format for the output interaction network can be specifed as a pdb indexing of the protein of choice of as a msa indexing\n",
    "network_index = \"pdb\"\n",
    "input_files_list = [\n",
    "    input_fiels_10,\n",
    "    input_fiels_50,\n",
    "]\n",
    "for input_files in input_files_list:\n",
    "    # Make a shared interaction network\n",
    "    (\n",
    "        conservation_tem,\n",
    "        colors_int_type,\n",
    "        properties,\n",
    "        miss_net,\n",
    "        miss_colors,\n",
    "        miss_prop,\n",
    "    ) = common_network(\n",
    "        msa_alignment,\n",
    "        input_files,\n",
    "        \"1M40_TEM-1\",\n",
    "        network_index,\n",
    "        conservation_uniform=True,\n",
    "        missing_network=True,\n",
    "        no_vdw=True,\n",
    "    )\n",
    "    retention = input_files.split(\"/\")[-1]\n",
    "    retention_number = retention.split(\"_\")[-1]\n",
    "    # Apply filters to get interaction network of hydrophobic interactions\n",
    "    # preserved in at least 50% of structures that\n",
    "    # occure between not main chain-main chain residues\n",
    "\n",
    "    new_network, new_colors, new_properties = filter_network(\n",
    "        conservation_tem,\n",
    "        colors_int_type,\n",
    "        properties,\n",
    "        min_score=0.5,\n",
    "        network_index=\"pdb\",\n",
    "        loc_exclude=[\"mc-mc\"],\n",
    "        int_exclude=[\"hbond\", \"saltbridge\", \"pipi\", \"cationpi\"],\n",
    "    )\n",
    "\n",
    "    # Output a pymol visualization of the conserved interactions network\n",
    "    projection_output = f\"dynamic_contacts_processing/shared_network/TEM1_hydrophobic_no_mc-mc_{retention_number}.pml\"\n",
    "    # visualize as a res-res interactions\n",
    "    if new_network is not None:\n",
    "        project_pymol_res_res_scores(new_network, projection_output, new_colors)\n",
    "    # caluclate and visualize per residue scores\n",
    "    per_res_score = get_per_res_score(new_network)\n",
    "    project_pymol_per_res_scores(\n",
    "        per_res_score,\n",
    "        f\"dynamic_contacts_processing/shared_network/TEM1_hydrophobic_no_mc-mc_{retention_number}.pml\",\n",
    "    )\n",
    "    properties_filename = f\"dynamic_contacts_processing/shared_network/properties_hydrophobic_no_mc-mc_{retention_number}.csv\"\n",
    "    properties.to_csv(properties_filename, index=False)\n",
    "\n",
    "    # Output a pymol visualization of the missing interactions network\n",
    "    miss_projection = f\"dynamic_contacts_processing/missing_network/tem1_missing_nvdw_{retention_number}.pml\"\n",
    "    "
   ]
  }
 ],
 "metadata": {
  "kernelspec": {
   "display_name": "tools_proj_py3_11",
   "language": "python",
   "name": "python3"
  },
  "language_info": {
   "codemirror_mode": {
    "name": "ipython",
    "version": 3
   },
   "file_extension": ".py",
   "mimetype": "text/x-python",
   "name": "python",
   "nbconvert_exporter": "python",
   "pygments_lexer": "ipython3",
   "version": "3.11.6"
  },
  "orig_nbformat": 4
 },
 "nbformat": 4,
 "nbformat_minor": 2
}
