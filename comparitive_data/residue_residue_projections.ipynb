{
 "cells": [
  {
   "attachments": {},
   "cell_type": "markdown",
   "metadata": {},
   "source": [
    "### Plan: Project interaction data onto the structure\n",
    "Work with TEM1- betalactmase\n",
    "\n",
    "#### Plan:\n",
    "- Load all contact data, sort contact data to be with res numbers\n",
    "- Identify all TEM-1 residues that should be looked at.\n",
    "- Convert TEM1 residues to msa residues\n",
    "- Convert all contact matrices to msa scored matrices\n",
    "- For tem1 residue, identify contacts and frequency conserved...\n",
    "- Output results.\n",
    "\n",
    "\n",
    "- Can add filtering etc... at a later date"
   ]
  },
  {
   "cell_type": "code",
   "execution_count": 1,
   "metadata": {},
   "outputs": [],
   "source": [
    "from typing import Any\n",
    "import re\n",
    "import pandas as pd\n",
    "import numpy as np\n",
    "\n",
    "from tools_proj.utils import open_many_single_frame_contacts_files\n",
    "from tools_proj.sequences import seq_align_file_to_sequences\n",
    "from tools_proj.msa_conversion import add_msa_numbering_to_interaction_data"
   ]
  },
  {
   "cell_type": "code",
   "execution_count": 2,
   "metadata": {},
   "outputs": [],
   "source": [
    "MSA_FILE = r\"../../contact_analysis/multi_structure_test/bettaLac.ali\"\n",
    "CRYSTAL_CONTACTS_FOLDER = r\"../../network_analysis/crystal_structure_contacts/raw_contacts/\""
   ]
  },
  {
   "cell_type": "code",
   "execution_count": null,
   "metadata": {},
   "outputs": [],
   "source": [
    "msa_seqs = seq_align_file_to_sequences(alignment_file=MSA_FILE, output_msa_style=True)\n",
    "prot_seqs = seq_align_file_to_sequences(alignment_file=MSA_FILE, output_msa_style=False)\n",
    "print(msa_seqs)"
   ]
  },
  {
   "cell_type": "code",
   "execution_count": null,
   "metadata": {},
   "outputs": [],
   "source": [
    "all_protein_contacts = open_many_single_frame_contacts_files(\n",
    "    folder_path=CRYSTAL_CONTACTS_FOLDER, protein_names=list(msa_seqs.keys())\n",
    ")\n",
    "print(all_protein_contacts)"
   ]
  },
  {
   "cell_type": "code",
   "execution_count": null,
   "metadata": {},
   "outputs": [],
   "source": []
  },
  {
   "cell_type": "markdown",
   "metadata": {},
   "source": [
    "## OLD BELOW"
   ]
  },
  {
   "attachments": {},
   "cell_type": "markdown",
   "metadata": {},
   "source": [
    "#### Figure out which residues on the msa tem1 and other proteins have "
   ]
  },
  {
   "cell_type": "code",
   "execution_count": null,
   "metadata": {},
   "outputs": [],
   "source": [
    "with open(r\"../structure_names.txt\") as file:\n",
    "    structure_names = [line.rstrip() for line in file]\n",
    "structure_names.remove(\"1BSG_Sabla\") # temporary\n",
    "structure_names"
   ]
  },
  {
   "cell_type": "code",
   "execution_count": null,
   "metadata": {},
   "outputs": [],
   "source": [
    "# MSA data\n",
    "msa_data = np.genfromtxt(r\"../pos_ranking_nostar.dat\", names=True, dtype=None, encoding=\"utf-8\")\n",
    "msa_df = pd.DataFrame.from_records(msa_data)\n",
    "msa_columns = list(msa_df.columns)\n",
    "msa_columns"
   ]
  },
  {
   "cell_type": "code",
   "execution_count": null,
   "metadata": {},
   "outputs": [],
   "source": [
    "def pdb_to_msa_indexs(msa_sequence, to_convert):\n",
    "    \"\"\"\n",
    "    TODO - add docstring.\n",
    "    \"\"\"\n",
    "    curr_msa_number, curr_pdb_numb = 0, 0\n",
    "    index_pdb_msa = {}\n",
    "    for msa_residue in msa_sequence:\n",
    "        if msa_residue == \"-\":\n",
    "            curr_msa_number += 1\n",
    "        else: \n",
    "            curr_msa_number += 1\n",
    "            curr_pdb_numb += 1\n",
    "        \n",
    "            index_pdb_msa[curr_pdb_numb] = curr_msa_number\n",
    "\n",
    "\n",
    "    converted_list = []\n",
    "    for msa_contact in to_convert:\n",
    "        pdb_res1, pdb_res2 = msa_contact\n",
    "        msa_res1 = index_pdb_msa[pdb_res1]\n",
    "        msa_res2 = index_pdb_msa[pdb_res2]\n",
    "\n",
    "        new_label = (msa_res1, msa_res2)\n",
    "        converted_list.append(new_label)\n",
    "    \n",
    "    return converted_list"
   ]
  },
  {
   "cell_type": "code",
   "execution_count": null,
   "metadata": {},
   "outputs": [],
   "source": []
  },
  {
   "cell_type": "code",
   "execution_count": null,
   "metadata": {},
   "outputs": [],
   "source": [
    "raw_contacts = {}\n",
    "for protein in structure_names:\n",
    "    df = pd.read_csv(f\"../{protein}_contacts.csv\")\n",
    "    interactions = list(df.columns)\n",
    "\n",
    "    # Now extract the residue numbers corresponding for each pair.\n",
    "    pdb_pairs = []\n",
    "    for interaction in interactions:\n",
    "        \n",
    "        # # TODO - refactor. \n",
    "        # if \"Hbond\" in interaction:\n",
    "        res1, res2 = re.findall(r\"\\d+\", interaction)\n",
    "        pdb_pairs.append((int(res1), int(res2)))\n",
    "    \n",
    "    # to match names in the msa file. \n",
    "    protein_name = protein[0:4]\n",
    "\n",
    "    # convert from pdb to msa_numbering:\n",
    "    msa_pairs = pdb_to_msa_indexs(msa_sequence=list(msa_df[protein_name]), to_convert=pdb_pairs)\n",
    "\n",
    "    raw_contacts[protein_name] = msa_pairs"
   ]
  },
  {
   "cell_type": "code",
   "execution_count": null,
   "metadata": {},
   "outputs": [],
   "source": [
    "print(raw_contacts['1BTL'])"
   ]
  },
  {
   "cell_type": "code",
   "execution_count": null,
   "metadata": {},
   "outputs": [],
   "source": []
  },
  {
   "cell_type": "code",
   "execution_count": null,
   "metadata": {},
   "outputs": [],
   "source": []
  },
  {
   "attachments": {},
   "cell_type": "markdown",
   "metadata": {},
   "source": [
    "### Edits here.\n",
    "The above contacts are not MSA indexed, so fixing this now. "
   ]
  },
  {
   "cell_type": "code",
   "execution_count": null,
   "metadata": {},
   "outputs": [],
   "source": []
  },
  {
   "cell_type": "code",
   "execution_count": null,
   "metadata": {},
   "outputs": [],
   "source": []
  },
  {
   "attachments": {},
   "cell_type": "markdown",
   "metadata": {},
   "source": [
    "#### Figure out which residues on the msa tem1 and other proteins have "
   ]
  },
  {
   "cell_type": "code",
   "execution_count": null,
   "metadata": {},
   "outputs": [],
   "source": [
    "all_msa_res_numbs = {}\n",
    "for protein in msa_columns[2:]: # TODO - change to 1 later, once 1BSG included. \n",
    "    sequence = list(msa_df[protein])\n",
    "\n",
    "    # now go through each sequence, determine what msa residues it contains. \n",
    "    msa_residues = []\n",
    "    for msa_numb, residue in enumerate(sequence):\n",
    "        if residue != \"-\":\n",
    "            msa_residues.append(msa_numb + 1) # counting starts from 1, not 0...\n",
    "            \n",
    "    all_msa_res_numbs[protein] = msa_residues\n",
    "    \n",
    "print(all_msa_res_numbs[\"1BTL\"])"
   ]
  },
  {
   "attachments": {},
   "cell_type": "markdown",
   "metadata": {},
   "source": [
    "### Count all contacts, mark if found in TEM1 or not.\n",
    "\n",
    "Tem1 = 1BTL"
   ]
  },
  {
   "cell_type": "code",
   "execution_count": null,
   "metadata": {},
   "outputs": [],
   "source": [
    "raw_contacts.keys(), all_msa_res_numbs.keys()"
   ]
  },
  {
   "cell_type": "code",
   "execution_count": null,
   "metadata": {},
   "outputs": [],
   "source": [
    "key_protein = \"1BTL\"\n",
    "\n",
    "# make all unique contacts, \n",
    "all_possible_contacts = []\n",
    "for protein, contacts in raw_contacts.items():\n",
    "    for msa_res1, msa_res2 in contacts:\n",
    "        if (msa_res1, msa_res2) not in all_possible_contacts and (msa_res2, msa_res1) not in all_possible_contacts:        \n",
    "            # check if possible for projecting protein to make this contact:\n",
    "            if (msa_res1 in all_msa_res_numbs[key_protein]) and (msa_res2 in all_msa_res_numbs[key_protein]):\n",
    "                all_possible_contacts.append((msa_res1, msa_res2))\n",
    "\n",
    "print(len(all_possible_contacts), all_possible_contacts)"
   ]
  },
  {
   "cell_type": "code",
   "execution_count": null,
   "metadata": {},
   "outputs": [],
   "source": [
    "contact_information = {}\n",
    "for msa_res1, msa_res2 in all_possible_contacts:\n",
    "    \n",
    "    found, not_found, not_possible = 0, 0, 0 \n",
    "    present_in_key = False\n",
    "    for protein, prot_contacts in raw_contacts.items():\n",
    "\n",
    "        # check if interaction in this one.    \n",
    "        if (msa_res1, msa_res2) in prot_contacts: \n",
    "            found += 1\n",
    "            if protein == key_protein:\n",
    "                present_in_key = True\n",
    "        \n",
    "        elif (msa_res2, msa_res1) in prot_contacts:\n",
    "            found += 1\n",
    "            if protein == key_protein:\n",
    "                present_in_key = True\n",
    "        \n",
    "        else:\n",
    "            # check to see if possible to form the interaction.\n",
    "            if (msa_res1 not in all_msa_res_numbs[protein]) or (msa_res2 not in all_msa_res_numbs[protein]):\n",
    "                not_possible += 1\n",
    "                continue\n",
    "            not_found += 1\n",
    "\n",
    "    occupancy = found / (found + not_found)\n",
    "    contact_information[msa_res1, msa_res2] = {\"occupancy\": occupancy, \"found\": found, \"not_found\": not_found, \n",
    "                                                \"not_possible\": not_possible, \"present in key\": present_in_key}\n",
    "print(contact_information)"
   ]
  },
  {
   "attachments": {},
   "cell_type": "markdown",
   "metadata": {},
   "source": [
    "### Convert from MSA to pdb numbering"
   ]
  },
  {
   "cell_type": "code",
   "execution_count": null,
   "metadata": {},
   "outputs": [],
   "source": [
    "def indexing_msa_to_pdb(\n",
    "    msa_sequence: list[str], \n",
    "    to_convert: dict[tuple[int, int], Any]\n",
    ") -> dict[tuple[int, int], Any]:\n",
    "    \"\"\"\n",
    "    TODO - add docstring.\n",
    "    \"\"\"\n",
    "    curr_msa_number, curr_pdb_numb = 0, 0\n",
    "    index_pdb_msa = {}\n",
    "    for msa_residue in msa_sequence:\n",
    "        if msa_residue == \"-\":\n",
    "            curr_msa_number += 1\n",
    "        else: \n",
    "            curr_msa_number += 1\n",
    "            curr_pdb_numb += 1\n",
    "        \n",
    "            index_pdb_msa[curr_msa_number] = curr_pdb_numb\n",
    "\n",
    "\n",
    "    converted_dict = {}\n",
    "    for contact, content in to_convert.items():\n",
    "        msa_res1, msa_res2 = contact\n",
    "        pdb_res1 = index_pdb_msa[msa_res1]\n",
    "        pdb_res2 = index_pdb_msa[msa_res2]\n",
    "\n",
    "        new_label = (pdb_res1, pdb_res2)\n",
    "\n",
    "        converted_dict[new_label] = content\n",
    "    \n",
    "    return converted_dict"
   ]
  },
  {
   "cell_type": "code",
   "execution_count": null,
   "metadata": {},
   "outputs": [],
   "source": [
    "pdb_contact_information = indexing_msa_to_pdb(msa_sequence=list(msa_df[\"1BTL\"]), to_convert=contact_information)"
   ]
  },
  {
   "cell_type": "code",
   "execution_count": null,
   "metadata": {},
   "outputs": [],
   "source": [
    "print(contact_information.keys())\n",
    "print(pdb_contact_information.keys())"
   ]
  },
  {
   "attachments": {},
   "cell_type": "markdown",
   "metadata": {},
   "source": [
    "### Pymol Projections"
   ]
  },
  {
   "cell_type": "code",
   "execution_count": null,
   "metadata": {},
   "outputs": [],
   "source": []
  },
  {
   "cell_type": "code",
   "execution_count": null,
   "metadata": {},
   "outputs": [],
   "source": [
    "# prep the contact data above for projections. \n",
    "res_res_scores, res_res_colours = {}, {}\n",
    "for contact, contact_info in pdb_contact_information.items():\n",
    "    res_res_scores[contact] = contact_info[\"occupancy\"]\n",
    "\n",
    "    if contact_info[\"present in key\"]:\n",
    "        res_res_colours[contact] = \"red\"\n",
    "    else: \n",
    "        res_res_colours[contact] = \"blue\"\n",
    "\n",
    "res_res_scores_scaled = rescale_scores(res_res_scores)"
   ]
  },
  {
   "cell_type": "code",
   "execution_count": null,
   "metadata": {},
   "outputs": [],
   "source": [
    "print(res_res_scores_scaled)\n",
    "print(res_res_colours)"
   ]
  },
  {
   "cell_type": "code",
   "execution_count": null,
   "metadata": {},
   "outputs": [],
   "source": [
    "project_pymol_res_res_scores(\n",
    "    res_res_scores=res_res_scores_scaled,\n",
    "    out_file=\"pymol_TEM1_contact_preservation.py\",\n",
    "    res_res_colours=res_res_colours\n",
    ")"
   ]
  },
  {
   "cell_type": "code",
   "execution_count": null,
   "metadata": {},
   "outputs": [],
   "source": []
  },
  {
   "cell_type": "code",
   "execution_count": null,
   "metadata": {},
   "outputs": [],
   "source": []
  },
  {
   "cell_type": "code",
   "execution_count": null,
   "metadata": {},
   "outputs": [],
   "source": []
  },
  {
   "cell_type": "code",
   "execution_count": null,
   "metadata": {},
   "outputs": [],
   "source": []
  }
 ],
 "metadata": {
  "kernelspec": {
   "display_name": "Python 3",
   "language": "python",
   "name": "python3"
  },
  "language_info": {
   "codemirror_mode": {
    "name": "ipython",
    "version": 3
   },
   "file_extension": ".py",
   "mimetype": "text/x-python",
   "name": "python",
   "nbconvert_exporter": "python",
   "pygments_lexer": "ipython3",
   "version": "3.11.4"
  },
  "orig_nbformat": 4
 },
 "nbformat": 4,
 "nbformat_minor": 2
}
